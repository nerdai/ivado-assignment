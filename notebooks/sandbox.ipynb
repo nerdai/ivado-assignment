{
 "cells": [
  {
   "cell_type": "code",
   "execution_count": 1,
   "id": "a1842274-2769-4d14-8091-0994bddd55d2",
   "metadata": {
    "tags": []
   },
   "outputs": [],
   "source": [
    "%matplotlib inline\n",
    "from matplotlib import pyplot as plt\n",
    "import numpy as np\n",
    "import pandas as pd\n",
    "import seaborn as sns"
   ]
  },
  {
   "cell_type": "code",
   "execution_count": 2,
   "id": "5329b444-f4bf-4e1f-b1d1-a98bc778a4d6",
   "metadata": {
    "tags": []
   },
   "outputs": [],
   "source": [
    "data = pd.read_csv(\"../data/2021-10-19_14-11-08_val_candidate_data.csv\")"
   ]
  },
  {
   "cell_type": "code",
   "execution_count": 3,
   "id": "c0faa96f-4f53-4eea-b5f2-6896821f549c",
   "metadata": {
    "tags": []
   },
   "outputs": [
    {
     "data": {
      "text/html": [
       "<div>\n",
       "<style scoped>\n",
       "    .dataframe tbody tr th:only-of-type {\n",
       "        vertical-align: middle;\n",
       "    }\n",
       "\n",
       "    .dataframe tbody tr th {\n",
       "        vertical-align: top;\n",
       "    }\n",
       "\n",
       "    .dataframe thead th {\n",
       "        text-align: right;\n",
       "    }\n",
       "</style>\n",
       "<table border=\"1\" class=\"dataframe\">\n",
       "  <thead>\n",
       "    <tr style=\"text-align: right;\">\n",
       "      <th></th>\n",
       "      <th>Unnamed: 0</th>\n",
       "      <th>feature_0</th>\n",
       "      <th>feature_1</th>\n",
       "      <th>feature_2</th>\n",
       "      <th>feature_3</th>\n",
       "      <th>feature_4</th>\n",
       "      <th>feature_5</th>\n",
       "      <th>feature_6</th>\n",
       "      <th>feature_7</th>\n",
       "      <th>feature_8</th>\n",
       "      <th>feature_9</th>\n",
       "      <th>feature_10</th>\n",
       "      <th>feature_11</th>\n",
       "      <th>feature_12</th>\n",
       "      <th>target</th>\n",
       "    </tr>\n",
       "  </thead>\n",
       "  <tbody>\n",
       "    <tr>\n",
       "      <th>0</th>\n",
       "      <td>298</td>\n",
       "      <td>Female</td>\n",
       "      <td>No</td>\n",
       "      <td>0</td>\n",
       "      <td>Graduate</td>\n",
       "      <td>No</td>\n",
       "      <td>5000.0</td>\n",
       "      <td>2541</td>\n",
       "      <td>151.0</td>\n",
       "      <td>480.0</td>\n",
       "      <td>1.0</td>\n",
       "      <td>Rural</td>\n",
       "      <td>0</td>\n",
       "      <td>No</td>\n",
       "      <td>N</td>\n",
       "    </tr>\n",
       "    <tr>\n",
       "      <th>1</th>\n",
       "      <td>115</td>\n",
       "      <td>Male</td>\n",
       "      <td>Yes</td>\n",
       "      <td>1</td>\n",
       "      <td>Graduate</td>\n",
       "      <td>No</td>\n",
       "      <td>14583.0</td>\n",
       "      <td>0</td>\n",
       "      <td>185.0</td>\n",
       "      <td>180.0</td>\n",
       "      <td>1.0</td>\n",
       "      <td>Rural</td>\n",
       "      <td>1</td>\n",
       "      <td>No</td>\n",
       "      <td>Y</td>\n",
       "    </tr>\n",
       "    <tr>\n",
       "      <th>2</th>\n",
       "      <td>312</td>\n",
       "      <td>Female</td>\n",
       "      <td>No</td>\n",
       "      <td>0</td>\n",
       "      <td>Graduate</td>\n",
       "      <td>No</td>\n",
       "      <td>2507.0</td>\n",
       "      <td>0</td>\n",
       "      <td>56.0</td>\n",
       "      <td>360.0</td>\n",
       "      <td>1.0</td>\n",
       "      <td>Rural</td>\n",
       "      <td>0</td>\n",
       "      <td>No</td>\n",
       "      <td>Y</td>\n",
       "    </tr>\n",
       "    <tr>\n",
       "      <th>3</th>\n",
       "      <td>605</td>\n",
       "      <td>Male</td>\n",
       "      <td>Yes</td>\n",
       "      <td>0</td>\n",
       "      <td>Not Graduate</td>\n",
       "      <td>No</td>\n",
       "      <td>2400.0</td>\n",
       "      <td>3800</td>\n",
       "      <td>NaN</td>\n",
       "      <td>180.0</td>\n",
       "      <td>1.0</td>\n",
       "      <td>Urban</td>\n",
       "      <td>0</td>\n",
       "      <td>No</td>\n",
       "      <td>N</td>\n",
       "    </tr>\n",
       "    <tr>\n",
       "      <th>4</th>\n",
       "      <td>465</td>\n",
       "      <td>Male</td>\n",
       "      <td>No</td>\n",
       "      <td>0</td>\n",
       "      <td>Graduate</td>\n",
       "      <td>No</td>\n",
       "      <td>6000.0</td>\n",
       "      <td>0</td>\n",
       "      <td>140.0</td>\n",
       "      <td>360.0</td>\n",
       "      <td>1.0</td>\n",
       "      <td>Rural</td>\n",
       "      <td>0</td>\n",
       "      <td>No</td>\n",
       "      <td>Y</td>\n",
       "    </tr>\n",
       "  </tbody>\n",
       "</table>\n",
       "</div>"
      ],
      "text/plain": [
       "   Unnamed: 0 feature_0 feature_1 feature_2     feature_3 feature_4  \\\n",
       "0         298    Female        No         0      Graduate        No   \n",
       "1         115      Male       Yes         1      Graduate        No   \n",
       "2         312    Female        No         0      Graduate        No   \n",
       "3         605      Male       Yes         0  Not Graduate        No   \n",
       "4         465      Male        No         0      Graduate        No   \n",
       "\n",
       "   feature_5 feature_6  feature_7  feature_8  feature_9 feature_10 feature_11  \\\n",
       "0     5000.0      2541      151.0      480.0        1.0      Rural          0   \n",
       "1    14583.0         0      185.0      180.0        1.0      Rural          1   \n",
       "2     2507.0         0       56.0      360.0        1.0      Rural          0   \n",
       "3     2400.0      3800        NaN      180.0        1.0      Urban          0   \n",
       "4     6000.0         0      140.0      360.0        1.0      Rural          0   \n",
       "\n",
       "  feature_12 target  \n",
       "0         No      N  \n",
       "1         No      Y  \n",
       "2         No      Y  \n",
       "3         No      N  \n",
       "4         No      Y  "
      ]
     },
     "execution_count": 3,
     "metadata": {},
     "output_type": "execute_result"
    }
   ],
   "source": [
    "data.head()"
   ]
  },
  {
   "cell_type": "code",
   "execution_count": 4,
   "id": "efc07755-0864-461c-929b-b430da3d1753",
   "metadata": {
    "tags": []
   },
   "outputs": [],
   "source": [
    "omitted_obs = []"
   ]
  },
  {
   "cell_type": "markdown",
   "id": "02600d25-7091-4970-8f74-8aed53cc83ea",
   "metadata": {},
   "source": [
    "### Quick peak at the data"
   ]
  },
  {
   "cell_type": "code",
   "execution_count": 5,
   "id": "f0cb1d0b-5902-42d0-bf19-1a8e240a1cd5",
   "metadata": {
    "tags": []
   },
   "outputs": [
    {
     "name": "stdout",
     "output_type": "stream",
     "text": [
      "<class 'pandas.core.frame.DataFrame'>\n",
      "RangeIndex: 580 entries, 0 to 579\n",
      "Data columns (total 15 columns):\n",
      " #   Column      Non-Null Count  Dtype  \n",
      "---  ------      --------------  -----  \n",
      " 0   Unnamed: 0  580 non-null    int64  \n",
      " 1   feature_0   571 non-null    object \n",
      " 2   feature_1   577 non-null    object \n",
      " 3   feature_2   566 non-null    object \n",
      " 4   feature_3   562 non-null    object \n",
      " 5   feature_4   547 non-null    object \n",
      " 6   feature_5   563 non-null    float64\n",
      " 7   feature_6   580 non-null    object \n",
      " 8   feature_7   559 non-null    float64\n",
      " 9   feature_8   567 non-null    float64\n",
      " 10  feature_9   533 non-null    float64\n",
      " 11  feature_10  580 non-null    object \n",
      " 12  feature_11  566 non-null    object \n",
      " 13  feature_12  547 non-null    object \n",
      " 14  target      580 non-null    object \n",
      "dtypes: float64(4), int64(1), object(10)\n",
      "memory usage: 68.1+ KB\n"
     ]
    }
   ],
   "source": [
    "data.info()"
   ]
  },
  {
   "cell_type": "markdown",
   "id": "a7af81a8-c545-4200-bca4-1716cb9bd2a2",
   "metadata": {
    "tags": []
   },
   "source": [
    "##### Summary\n",
    "- 580 total observations, with 13 features\n",
    "- mix of numerical and categorical feature types\n",
    "- most feature columns have some rows with missing values"
   ]
  },
  {
   "cell_type": "markdown",
   "id": "4088bd4e-128d-430a-be6c-ef2502b5dfff",
   "metadata": {},
   "source": [
    "### Peak at the categorical fields"
   ]
  },
  {
   "cell_type": "code",
   "execution_count": 6,
   "id": "59649031-8111-4148-a4ec-3a4adc5233b6",
   "metadata": {
    "tags": []
   },
   "outputs": [],
   "source": [
    "cats = [\n",
    "    \"feature_0\",\n",
    "    \"feature_1\",\n",
    "    \"feature_2\",\n",
    "    \"feature_3\",\n",
    "    \"feature_4\",\n",
    "    \"feature_6\",\n",
    "    \"feature_10\",\n",
    "    \"feature_11\",\n",
    "    \"feature_12\",\n",
    "]"
   ]
  },
  {
   "cell_type": "code",
   "execution_count": 7,
   "id": "9b2fc60c-6901-41f7-bc21-96d9fba9bc93",
   "metadata": {
    "tags": []
   },
   "outputs": [
    {
     "data": {
      "text/html": [
       "<div>\n",
       "<style scoped>\n",
       "    .dataframe tbody tr th:only-of-type {\n",
       "        vertical-align: middle;\n",
       "    }\n",
       "\n",
       "    .dataframe tbody tr th {\n",
       "        vertical-align: top;\n",
       "    }\n",
       "\n",
       "    .dataframe thead th {\n",
       "        text-align: right;\n",
       "    }\n",
       "</style>\n",
       "<table border=\"1\" class=\"dataframe\">\n",
       "  <thead>\n",
       "    <tr style=\"text-align: right;\">\n",
       "      <th></th>\n",
       "      <th>feature_0</th>\n",
       "      <th>feature_1</th>\n",
       "      <th>feature_2</th>\n",
       "      <th>feature_3</th>\n",
       "      <th>feature_4</th>\n",
       "      <th>feature_6</th>\n",
       "      <th>feature_10</th>\n",
       "      <th>feature_11</th>\n",
       "      <th>feature_12</th>\n",
       "      <th>target</th>\n",
       "    </tr>\n",
       "  </thead>\n",
       "  <tbody>\n",
       "    <tr>\n",
       "      <th>count</th>\n",
       "      <td>571</td>\n",
       "      <td>577</td>\n",
       "      <td>566</td>\n",
       "      <td>562</td>\n",
       "      <td>547</td>\n",
       "      <td>580</td>\n",
       "      <td>580</td>\n",
       "      <td>566</td>\n",
       "      <td>547</td>\n",
       "      <td>580</td>\n",
       "    </tr>\n",
       "    <tr>\n",
       "      <th>unique</th>\n",
       "      <td>2</td>\n",
       "      <td>2</td>\n",
       "      <td>4</td>\n",
       "      <td>2</td>\n",
       "      <td>2</td>\n",
       "      <td>259</td>\n",
       "      <td>3</td>\n",
       "      <td>4</td>\n",
       "      <td>2</td>\n",
       "      <td>2</td>\n",
       "    </tr>\n",
       "    <tr>\n",
       "      <th>top</th>\n",
       "      <td>Male</td>\n",
       "      <td>Yes</td>\n",
       "      <td>0</td>\n",
       "      <td>Graduate</td>\n",
       "      <td>No</td>\n",
       "      <td>0</td>\n",
       "      <td>Semiurban</td>\n",
       "      <td>0</td>\n",
       "      <td>No</td>\n",
       "      <td>Y</td>\n",
       "    </tr>\n",
       "    <tr>\n",
       "      <th>freq</th>\n",
       "      <td>465</td>\n",
       "      <td>380</td>\n",
       "      <td>324</td>\n",
       "      <td>440</td>\n",
       "      <td>475</td>\n",
       "      <td>259</td>\n",
       "      <td>225</td>\n",
       "      <td>324</td>\n",
       "      <td>475</td>\n",
       "      <td>397</td>\n",
       "    </tr>\n",
       "  </tbody>\n",
       "</table>\n",
       "</div>"
      ],
      "text/plain": [
       "       feature_0 feature_1 feature_2 feature_3 feature_4 feature_6 feature_10  \\\n",
       "count        571       577       566       562       547       580        580   \n",
       "unique         2         2         4         2         2       259          3   \n",
       "top         Male       Yes         0  Graduate        No         0  Semiurban   \n",
       "freq         465       380       324       440       475       259        225   \n",
       "\n",
       "       feature_11 feature_12 target  \n",
       "count         566        547    580  \n",
       "unique          4          2      2  \n",
       "top             0         No      Y  \n",
       "freq          324        475    397  "
      ]
     },
     "execution_count": 7,
     "metadata": {},
     "output_type": "execute_result"
    }
   ],
   "source": [
    "data.describe(include=object)"
   ]
  },
  {
   "cell_type": "code",
   "execution_count": 8,
   "id": "e73b5378-a319-442b-9bdf-0beb821b44b6",
   "metadata": {
    "tags": []
   },
   "outputs": [
    {
     "name": "stdout",
     "output_type": "stream",
     "text": [
      "feature: feature_0\n",
      "col_0      freq\n",
      "feature_0      \n",
      "Female      106\n",
      "Male        465\n",
      "\n",
      "\n",
      "feature: feature_1\n",
      "col_0      freq\n",
      "feature_1      \n",
      "No          197\n",
      "Yes         380\n",
      "\n",
      "\n",
      "feature: feature_2\n",
      "col_0      freq\n",
      "feature_2      \n",
      "0           324\n",
      "1            94\n",
      "2            98\n",
      "3+           50\n",
      "\n",
      "\n",
      "feature: feature_3\n",
      "col_0         freq\n",
      "feature_3         \n",
      "Graduate       440\n",
      "Not Graduate   122\n",
      "\n",
      "\n",
      "feature: feature_4\n",
      "col_0      freq\n",
      "feature_4      \n",
      "No          475\n",
      "Yes          72\n",
      "\n",
      "\n",
      "feature: feature_6\n",
      "col_0          freq\n",
      "feature_6          \n",
      "0               259\n",
      "1.612.000.084     1\n",
      "1000              1\n",
      "1010              2\n",
      "1014              1\n",
      "...             ...\n",
      "8333              1\n",
      "9.857.999.878     1\n",
      "913               1\n",
      "923               1\n",
      "997               1\n",
      "\n",
      "[259 rows x 1 columns]\n",
      "\n",
      "\n",
      "feature: feature_10\n",
      "col_0       freq\n",
      "feature_10      \n",
      "Rural        162\n",
      "Semiurban    225\n",
      "Urban        193\n",
      "\n",
      "\n",
      "feature: feature_11\n",
      "col_0       freq\n",
      "feature_11      \n",
      "0            324\n",
      "1             94\n",
      "2             98\n",
      "3+            50\n",
      "\n",
      "\n",
      "feature: feature_12\n",
      "col_0       freq\n",
      "feature_12      \n",
      "No           475\n",
      "Yes           72\n",
      "\n",
      "\n"
     ]
    }
   ],
   "source": [
    "for f in cats:\n",
    "    print(f\"feature: {f}\")\n",
    "    print(pd.crosstab(index=data[f], columns='freq'))\n",
    "    print(\"\\n\")"
   ]
  },
  {
   "cell_type": "markdown",
   "id": "73547f27-3382-440f-8886-45a832c1947e",
   "metadata": {},
   "source": [
    "#### What's up with feature 6?\n",
    "- it was read in as `object` type by pandas\n",
    "- it appears its due to 2 records that have multiple \".\" in their entries\n",
    "    - \"9.857.999.878\" and \"1.612.000.084\"\n",
    "\n",
    "Couple options to go from here:\n",
    "Since, I can't really make what this field is meant to represent, and I have no conviction as to how to fix these observations reliably, I can either:\n",
    "1. omit these two records from the dataset;\n",
    "2. treat them as missing and deal with them as I plan to deal with the other missing values in this column (which may be equivalent to action 1. above)"
   ]
  },
  {
   "cell_type": "code",
   "execution_count": 9,
   "id": "4188999d-f3a4-42d6-85db-df37856aaea2",
   "metadata": {
    "tags": []
   },
   "outputs": [
    {
     "data": {
      "text/plain": [
       "count      578.000000\n",
       "mean      1623.179931\n",
       "std       2987.660904\n",
       "min          0.000000\n",
       "25%          0.000000\n",
       "50%       1125.500000\n",
       "75%       2269.500000\n",
       "max      41667.000000\n",
       "Name: feature_6, dtype: float64"
      ]
     },
     "execution_count": 9,
     "metadata": {},
     "output_type": "execute_result"
    }
   ],
   "source": [
    "data['feature_6'][~data['feature_6'].apply(lambda x: '.' in x)].astype(int).describe()"
   ]
  },
  {
   "cell_type": "code",
   "execution_count": 10,
   "id": "3c8b7f83-32e9-4eec-be3b-16d256e55bc6",
   "metadata": {
    "tags": []
   },
   "outputs": [
    {
     "data": {
      "text/plain": [
       "0      2541\n",
       "1         0\n",
       "2         0\n",
       "3      3800\n",
       "4         0\n",
       "       ... \n",
       "575    2336\n",
       "576    1668\n",
       "577    1041\n",
       "578    1803\n",
       "579     484\n",
       "Name: feature_6, Length: 578, dtype: object"
      ]
     },
     "execution_count": 10,
     "metadata": {},
     "output_type": "execute_result"
    }
   ],
   "source": [
    "data['feature_6'][~data['feature_6'].apply(lambda x: '.' in x)] # based on this these can all be cast into int type"
   ]
  },
  {
   "cell_type": "code",
   "execution_count": 11,
   "id": "daa48309-ded0-45e7-953f-5333541cb477",
   "metadata": {
    "tags": []
   },
   "outputs": [
    {
     "data": {
      "text/html": [
       "<div>\n",
       "<style scoped>\n",
       "    .dataframe tbody tr th:only-of-type {\n",
       "        vertical-align: middle;\n",
       "    }\n",
       "\n",
       "    .dataframe tbody tr th {\n",
       "        vertical-align: top;\n",
       "    }\n",
       "\n",
       "    .dataframe thead th {\n",
       "        text-align: right;\n",
       "    }\n",
       "</style>\n",
       "<table border=\"1\" class=\"dataframe\">\n",
       "  <thead>\n",
       "    <tr style=\"text-align: right;\">\n",
       "      <th></th>\n",
       "      <th>Unnamed: 0</th>\n",
       "      <th>feature_0</th>\n",
       "      <th>feature_1</th>\n",
       "      <th>feature_2</th>\n",
       "      <th>feature_3</th>\n",
       "      <th>feature_4</th>\n",
       "      <th>feature_5</th>\n",
       "      <th>feature_6</th>\n",
       "      <th>feature_7</th>\n",
       "      <th>feature_8</th>\n",
       "      <th>feature_9</th>\n",
       "      <th>feature_10</th>\n",
       "      <th>feature_11</th>\n",
       "      <th>feature_12</th>\n",
       "      <th>target</th>\n",
       "    </tr>\n",
       "  </thead>\n",
       "  <tbody>\n",
       "    <tr>\n",
       "      <th>182</th>\n",
       "      <td>282</td>\n",
       "      <td>Male</td>\n",
       "      <td>Yes</td>\n",
       "      <td>2</td>\n",
       "      <td>Graduate</td>\n",
       "      <td>No</td>\n",
       "      <td>2301.0</td>\n",
       "      <td>9.857.999.878</td>\n",
       "      <td>78.0</td>\n",
       "      <td>180.0</td>\n",
       "      <td>1.0</td>\n",
       "      <td>Urban</td>\n",
       "      <td>2</td>\n",
       "      <td>No</td>\n",
       "      <td>Y</td>\n",
       "    </tr>\n",
       "    <tr>\n",
       "      <th>303</th>\n",
       "      <td>428</td>\n",
       "      <td>Male</td>\n",
       "      <td>Yes</td>\n",
       "      <td>0</td>\n",
       "      <td>Graduate</td>\n",
       "      <td>No</td>\n",
       "      <td>NaN</td>\n",
       "      <td>1.612.000.084</td>\n",
       "      <td>87.0</td>\n",
       "      <td>360.0</td>\n",
       "      <td>1.0</td>\n",
       "      <td>Rural</td>\n",
       "      <td>0</td>\n",
       "      <td>No</td>\n",
       "      <td>Y</td>\n",
       "    </tr>\n",
       "  </tbody>\n",
       "</table>\n",
       "</div>"
      ],
      "text/plain": [
       "     Unnamed: 0 feature_0 feature_1 feature_2 feature_3 feature_4  feature_5  \\\n",
       "182         282      Male       Yes         2  Graduate        No     2301.0   \n",
       "303         428      Male       Yes         0  Graduate        No        NaN   \n",
       "\n",
       "         feature_6  feature_7  feature_8  feature_9 feature_10 feature_11  \\\n",
       "182  9.857.999.878       78.0      180.0        1.0      Urban          2   \n",
       "303  1.612.000.084       87.0      360.0        1.0      Rural          0   \n",
       "\n",
       "    feature_12 target  \n",
       "182         No      Y  \n",
       "303         No      Y  "
      ]
     },
     "execution_count": 11,
     "metadata": {},
     "output_type": "execute_result"
    }
   ],
   "source": [
    "data[data['feature_6'].apply(lambda x: '.' in x)]"
   ]
  },
  {
   "cell_type": "code",
   "execution_count": 12,
   "id": "21a1bc31-648e-4ce5-8068-2e23b5578327",
   "metadata": {
    "tags": []
   },
   "outputs": [],
   "source": [
    "# omit these, since I don't know the best way to handle imputation here\n",
    "omitted_obs += [182, 303]\n",
    "\n",
    "# df will be our DataFrame used for training\n",
    "df = data.loc[~data.index.isin(omitted_obs)].reset_index(drop=True)\n",
    "df['feature_6'] = df['feature_6'].astype(int)\n",
    "\n",
    "# remove feature_6 as a cat feature\n",
    "cats.remove('feature_6')"
   ]
  },
  {
   "cell_type": "code",
   "execution_count": 13,
   "id": "1168137d-9881-4852-b7cf-1ccdd0ccfb94",
   "metadata": {
    "tags": []
   },
   "outputs": [
    {
     "name": "stdout",
     "output_type": "stream",
     "text": [
      "feature: feature_0\n",
      "col_0      freq\n",
      "feature_0      \n",
      "Female      106\n",
      "Male        463\n",
      "\n",
      "\n",
      "feature: feature_1\n",
      "col_0      freq\n",
      "feature_1      \n",
      "No          197\n",
      "Yes         378\n",
      "\n",
      "\n",
      "feature: feature_2\n",
      "col_0      freq\n",
      "feature_2      \n",
      "0           323\n",
      "1            94\n",
      "2            97\n",
      "3+           50\n",
      "\n",
      "\n",
      "feature: feature_3\n",
      "col_0         freq\n",
      "feature_3         \n",
      "Graduate       438\n",
      "Not Graduate   122\n",
      "\n",
      "\n",
      "feature: feature_4\n",
      "col_0      freq\n",
      "feature_4      \n",
      "No          473\n",
      "Yes          72\n",
      "\n",
      "\n",
      "feature: feature_10\n",
      "col_0       freq\n",
      "feature_10      \n",
      "Rural        161\n",
      "Semiurban    225\n",
      "Urban        192\n",
      "\n",
      "\n",
      "feature: feature_11\n",
      "col_0       freq\n",
      "feature_11      \n",
      "0            323\n",
      "1             94\n",
      "2             97\n",
      "3+            50\n",
      "\n",
      "\n",
      "feature: feature_12\n",
      "col_0       freq\n",
      "feature_12      \n",
      "No           473\n",
      "Yes           72\n",
      "\n",
      "\n"
     ]
    }
   ],
   "source": [
    "for f in cats:\n",
    "    print(f\"feature: {f}\")\n",
    "    print(pd.crosstab(index=df[f], columns='freq'))\n",
    "    print(\"\\n\")"
   ]
  },
  {
   "cell_type": "markdown",
   "id": "4e5717a9-1e7e-4010-8b12-ee5c6a1183c5",
   "metadata": {},
   "source": [
    "##### Summary\n",
    "- `feature_6` was loaded in as an `object` type, but upon investigation it appears there were two inconsistent entries that lead to casting\n",
    "    - all other entries for this column appear to be of int type for which there were 259 distinct values\n",
    "    - while possible, unlikely this column is a categorical one with this many levels\n",
    "    - going to treat this as a numeric type instead\n",
    "- action taken was to omit these two observations from consideration in training the model\n",
    "- with respect to the other features, the number of levels is less than or equal to 4, so we can nicely handle these with OHE if needed"
   ]
  },
  {
   "cell_type": "markdown",
   "id": "6514fc4f-30d0-45a2-a5d5-e2d7dc45deed",
   "metadata": {},
   "source": [
    "### Peak at the numerical features"
   ]
  },
  {
   "cell_type": "code",
   "execution_count": 14,
   "id": "01480f62-ce41-4340-a424-d45d49a59a95",
   "metadata": {
    "tags": []
   },
   "outputs": [],
   "source": [
    "conts = [\n",
    "    \"feature_5\",\n",
    "    \"feature_6\",\n",
    "    \"feature_7\",\n",
    "    \"feature_8\",\n",
    "    \"feature_9\"\n",
    "]"
   ]
  },
  {
   "cell_type": "code",
   "execution_count": 15,
   "id": "5a545b1f-9268-4949-9206-21aa68dbe951",
   "metadata": {
    "tags": []
   },
   "outputs": [
    {
     "data": {
      "text/html": [
       "<div>\n",
       "<style scoped>\n",
       "    .dataframe tbody tr th:only-of-type {\n",
       "        vertical-align: middle;\n",
       "    }\n",
       "\n",
       "    .dataframe tbody tr th {\n",
       "        vertical-align: top;\n",
       "    }\n",
       "\n",
       "    .dataframe thead th {\n",
       "        text-align: right;\n",
       "    }\n",
       "</style>\n",
       "<table border=\"1\" class=\"dataframe\">\n",
       "  <thead>\n",
       "    <tr style=\"text-align: right;\">\n",
       "      <th></th>\n",
       "      <th>Unnamed: 0</th>\n",
       "      <th>feature_5</th>\n",
       "      <th>feature_6</th>\n",
       "      <th>feature_7</th>\n",
       "      <th>feature_8</th>\n",
       "      <th>feature_9</th>\n",
       "    </tr>\n",
       "  </thead>\n",
       "  <tbody>\n",
       "    <tr>\n",
       "      <th>count</th>\n",
       "      <td>578.000000</td>\n",
       "      <td>562.000000</td>\n",
       "      <td>578.000000</td>\n",
       "      <td>557.000000</td>\n",
       "      <td>565.000000</td>\n",
       "      <td>531.000000</td>\n",
       "    </tr>\n",
       "    <tr>\n",
       "      <th>mean</th>\n",
       "      <td>304.089965</td>\n",
       "      <td>5534.281139</td>\n",
       "      <td>1623.179931</td>\n",
       "      <td>145.763016</td>\n",
       "      <td>343.178761</td>\n",
       "      <td>0.841808</td>\n",
       "    </tr>\n",
       "    <tr>\n",
       "      <th>std</th>\n",
       "      <td>177.053671</td>\n",
       "      <td>6512.091445</td>\n",
       "      <td>2987.660904</td>\n",
       "      <td>84.651579</td>\n",
       "      <td>64.050110</td>\n",
       "      <td>0.365265</td>\n",
       "    </tr>\n",
       "    <tr>\n",
       "      <th>min</th>\n",
       "      <td>0.000000</td>\n",
       "      <td>150.000000</td>\n",
       "      <td>0.000000</td>\n",
       "      <td>9.000000</td>\n",
       "      <td>12.000000</td>\n",
       "      <td>0.000000</td>\n",
       "    </tr>\n",
       "    <tr>\n",
       "      <th>25%</th>\n",
       "      <td>150.250000</td>\n",
       "      <td>2890.250000</td>\n",
       "      <td>0.000000</td>\n",
       "      <td>100.000000</td>\n",
       "      <td>360.000000</td>\n",
       "      <td>1.000000</td>\n",
       "    </tr>\n",
       "    <tr>\n",
       "      <th>50%</th>\n",
       "      <td>306.500000</td>\n",
       "      <td>3815.000000</td>\n",
       "      <td>1125.500000</td>\n",
       "      <td>125.000000</td>\n",
       "      <td>360.000000</td>\n",
       "      <td>1.000000</td>\n",
       "    </tr>\n",
       "    <tr>\n",
       "      <th>75%</th>\n",
       "      <td>454.750000</td>\n",
       "      <td>5939.500000</td>\n",
       "      <td>2269.500000</td>\n",
       "      <td>166.000000</td>\n",
       "      <td>360.000000</td>\n",
       "      <td>1.000000</td>\n",
       "    </tr>\n",
       "    <tr>\n",
       "      <th>max</th>\n",
       "      <td>612.000000</td>\n",
       "      <td>81000.000000</td>\n",
       "      <td>41667.000000</td>\n",
       "      <td>650.000000</td>\n",
       "      <td>480.000000</td>\n",
       "      <td>1.000000</td>\n",
       "    </tr>\n",
       "  </tbody>\n",
       "</table>\n",
       "</div>"
      ],
      "text/plain": [
       "       Unnamed: 0     feature_5     feature_6   feature_7   feature_8  \\\n",
       "count  578.000000    562.000000    578.000000  557.000000  565.000000   \n",
       "mean   304.089965   5534.281139   1623.179931  145.763016  343.178761   \n",
       "std    177.053671   6512.091445   2987.660904   84.651579   64.050110   \n",
       "min      0.000000    150.000000      0.000000    9.000000   12.000000   \n",
       "25%    150.250000   2890.250000      0.000000  100.000000  360.000000   \n",
       "50%    306.500000   3815.000000   1125.500000  125.000000  360.000000   \n",
       "75%    454.750000   5939.500000   2269.500000  166.000000  360.000000   \n",
       "max    612.000000  81000.000000  41667.000000  650.000000  480.000000   \n",
       "\n",
       "        feature_9  \n",
       "count  531.000000  \n",
       "mean     0.841808  \n",
       "std      0.365265  \n",
       "min      0.000000  \n",
       "25%      1.000000  \n",
       "50%      1.000000  \n",
       "75%      1.000000  \n",
       "max      1.000000  "
      ]
     },
     "execution_count": 15,
     "metadata": {},
     "output_type": "execute_result"
    }
   ],
   "source": [
    "df.describe()"
   ]
  },
  {
   "cell_type": "code",
   "execution_count": 16,
   "id": "7e6d99dd-067e-4354-a996-59ef3d7c0016",
   "metadata": {
    "tags": []
   },
   "outputs": [
    {
     "data": {
      "image/png": "[encoded data removed]",
      "text/plain": [
       "<Figure size 300x300 with 1 Axes>"
      ]
     },
     "metadata": {},
     "output_type": "display_data"
    },
    {
     "data": {
      "image/png": "[encoded data removed]",
      "text/plain": [
       "<Figure size 300x300 with 1 Axes>"
      ]
     },
     "metadata": {},
     "output_type": "display_data"
    },
    {
     "data": {
      "image/png": "[encoded data removed]",
      "text/plain": [
       "<Figure size 300x300 with 1 Axes>"
      ]
     },
     "metadata": {},
     "output_type": "display_data"
    },
    {
     "data": {
      "image/png": "[encoded data removed]",
      "text/plain": [
       "<Figure size 300x300 with 1 Axes>"
      ]
     },
     "metadata": {},
     "output_type": "display_data"
    },
    {
     "data": {
      "image/png": "[encoded data removed]",
      "text/plain": [
       "<Figure size 300x300 with 1 Axes>"
      ]
     },
     "metadata": {},
     "output_type": "display_data"
    }
   ],
   "source": [
    "for f in conts:\n",
    "    ax = sns.displot(df[f], kde=False, height=3)\n",
    "    plt.axvline(x=np.mean(df[f]), color='red', label='mean')\n",
    "    plt.legend(loc='upper right')\n",
    "    plt.title(f\"{f}\")"
   ]
  },
  {
   "cell_type": "markdown",
   "id": "9d849f7d-86cb-4deb-8ba0-119c7f3381e8",
   "metadata": {},
   "source": [
    "#### What's up with `feature_8` and `feature_9`\n",
    "- `feature_8` only takes on values that are multiples of 12, but importantly there are only 10 different levels. Though I would suspect this feature is an ordinal one.\n",
    "- `feature_9` looks like it only takes on binary values\n",
    "- probably should be treated as a categorical type\n",
    "    - will go ahead and treat this as a categorical feature instead of a numerical one"
   ]
  },
  {
   "cell_type": "code",
   "execution_count": 17,
   "id": "fadfae0d-a572-44e3-a61b-17f44466ab05",
   "metadata": {
    "tags": []
   },
   "outputs": [
    {
     "data": {
      "text/html": [
       "<div>\n",
       "<style scoped>\n",
       "    .dataframe tbody tr th:only-of-type {\n",
       "        vertical-align: middle;\n",
       "    }\n",
       "\n",
       "    .dataframe tbody tr th {\n",
       "        vertical-align: top;\n",
       "    }\n",
       "\n",
       "    .dataframe thead th {\n",
       "        text-align: right;\n",
       "    }\n",
       "</style>\n",
       "<table border=\"1\" class=\"dataframe\">\n",
       "  <thead>\n",
       "    <tr style=\"text-align: right;\">\n",
       "      <th>col_0</th>\n",
       "      <th>freq</th>\n",
       "    </tr>\n",
       "    <tr>\n",
       "      <th>feature_8</th>\n",
       "      <th></th>\n",
       "    </tr>\n",
       "  </thead>\n",
       "  <tbody>\n",
       "    <tr>\n",
       "      <th>12.0</th>\n",
       "      <td>1</td>\n",
       "    </tr>\n",
       "    <tr>\n",
       "      <th>36.0</th>\n",
       "      <td>1</td>\n",
       "    </tr>\n",
       "    <tr>\n",
       "      <th>60.0</th>\n",
       "      <td>2</td>\n",
       "    </tr>\n",
       "    <tr>\n",
       "      <th>84.0</th>\n",
       "      <td>2</td>\n",
       "    </tr>\n",
       "    <tr>\n",
       "      <th>120.0</th>\n",
       "      <td>3</td>\n",
       "    </tr>\n",
       "    <tr>\n",
       "      <th>180.0</th>\n",
       "      <td>43</td>\n",
       "    </tr>\n",
       "    <tr>\n",
       "      <th>240.0</th>\n",
       "      <td>4</td>\n",
       "    </tr>\n",
       "    <tr>\n",
       "      <th>300.0</th>\n",
       "      <td>13</td>\n",
       "    </tr>\n",
       "    <tr>\n",
       "      <th>360.0</th>\n",
       "      <td>479</td>\n",
       "    </tr>\n",
       "    <tr>\n",
       "      <th>480.0</th>\n",
       "      <td>17</td>\n",
       "    </tr>\n",
       "  </tbody>\n",
       "</table>\n",
       "</div>"
      ],
      "text/plain": [
       "col_0      freq\n",
       "feature_8      \n",
       "12.0          1\n",
       "36.0          1\n",
       "60.0          2\n",
       "84.0          2\n",
       "120.0         3\n",
       "180.0        43\n",
       "240.0         4\n",
       "300.0        13\n",
       "360.0       479\n",
       "480.0        17"
      ]
     },
     "execution_count": 17,
     "metadata": {},
     "output_type": "execute_result"
    }
   ],
   "source": [
    "pd.crosstab(index=df['feature_8'], columns='freq')"
   ]
  },
  {
   "cell_type": "code",
   "execution_count": 18,
   "id": "4e9fc769-d8a0-4111-b604-cbf5359baa19",
   "metadata": {
    "tags": []
   },
   "outputs": [
    {
     "data": {
      "text/html": [
       "<div>\n",
       "<style scoped>\n",
       "    .dataframe tbody tr th:only-of-type {\n",
       "        vertical-align: middle;\n",
       "    }\n",
       "\n",
       "    .dataframe tbody tr th {\n",
       "        vertical-align: top;\n",
       "    }\n",
       "\n",
       "    .dataframe thead th {\n",
       "        text-align: right;\n",
       "    }\n",
       "</style>\n",
       "<table border=\"1\" class=\"dataframe\">\n",
       "  <thead>\n",
       "    <tr style=\"text-align: right;\">\n",
       "      <th>col_0</th>\n",
       "      <th>freq</th>\n",
       "    </tr>\n",
       "    <tr>\n",
       "      <th>feature_9</th>\n",
       "      <th></th>\n",
       "    </tr>\n",
       "  </thead>\n",
       "  <tbody>\n",
       "    <tr>\n",
       "      <th>0.0</th>\n",
       "      <td>84</td>\n",
       "    </tr>\n",
       "    <tr>\n",
       "      <th>1.0</th>\n",
       "      <td>447</td>\n",
       "    </tr>\n",
       "  </tbody>\n",
       "</table>\n",
       "</div>"
      ],
      "text/plain": [
       "col_0      freq\n",
       "feature_9      \n",
       "0.0          84\n",
       "1.0         447"
      ]
     },
     "execution_count": 18,
     "metadata": {},
     "output_type": "execute_result"
    }
   ],
   "source": [
    "pd.crosstab(index=df['feature_9'], columns='freq')"
   ]
  },
  {
   "cell_type": "code",
   "execution_count": 19,
   "id": "eec06e6c-534e-4a51-9ef9-768e02312472",
   "metadata": {
    "tags": []
   },
   "outputs": [],
   "source": [
    "cats.append('feature_8')\n",
    "cats.append('feature_9')\n",
    "conts.remove('feature_8')\n",
    "conts.remove('feature_9')"
   ]
  },
  {
   "cell_type": "markdown",
   "id": "b1b517b0-3ca4-44a5-ad02-937a5b6d053e",
   "metadata": {},
   "source": [
    "### Rows with missing observations\n",
    "\n",
    "- There are still a bunch of rows with some missing values\n",
    "    - 150 rows to be precise (~25% of the dataset)"
   ]
  },
  {
   "cell_type": "code",
   "execution_count": 21,
   "id": "1ceed058-5638-4cc4-8c37-bad0bfb2aea3",
   "metadata": {
    "tags": []
   },
   "outputs": [
    {
     "data": {
      "text/plain": [
       "150"
      ]
     },
     "execution_count": 21,
     "metadata": {},
     "output_type": "execute_result"
    }
   ],
   "source": [
    "df.isna().any(axis=1).sum()"
   ]
  },
  {
   "cell_type": "markdown",
   "id": "7696e5e2-b02c-4b11-a529-f7ff7b537334",
   "metadata": {},
   "source": [
    "#### Summary\n",
    "- Will need to do either:\n",
    "    1. A Complete Case Analysis (removing all of the rows with missing values)\n",
    "    2. Apply some sensible imputation methods\n",
    "        - `categorical`: add `missing` category\n",
    "        - `numerical`: use average"
   ]
  },
  {
   "cell_type": "code",
   "execution_count": 22,
   "id": "41969dc2-e8de-447b-b28a-76d6e647474a",
   "metadata": {
    "tags": []
   },
   "outputs": [
    {
     "data": {
      "text/plain": [
       "(428, 15)"
      ]
     },
     "execution_count": 22,
     "metadata": {},
     "output_type": "execute_result"
    }
   ],
   "source": [
    "# complete case analysis\n",
    "complete_df = df[~df.isna().any(axis=1)].reset_index(drop=True)\n",
    "complete_df.shape"
   ]
  },
  {
   "cell_type": "code",
   "execution_count": 23,
   "id": "08fe2718-078e-450e-8943-fbdcc2da7b4a",
   "metadata": {
    "tags": []
   },
   "outputs": [],
   "source": [
    "imputed_df = df.copy()"
   ]
  },
  {
   "cell_type": "code",
   "execution_count": 24,
   "id": "7be6b4b9-120f-47d2-bf77-c8f82e89513e",
   "metadata": {
    "tags": []
   },
   "outputs": [],
   "source": [
    "# imputing categorical\n",
    "for f in cats:\n",
    "    imputed_df[f] = pd.Categorical(imputed_df[f].fillna('missing'))"
   ]
  },
  {
   "cell_type": "code",
   "execution_count": 25,
   "id": "1ae93a94-55fd-4e39-91d2-a6d80d7b0405",
   "metadata": {
    "tags": []
   },
   "outputs": [],
   "source": [
    "# imputing numerical\n",
    "for f in conts:\n",
    "    mean = np.mean(imputed_df[f])\n",
    "    imputed_df[f] = imputed_df[f].fillna(mean)"
   ]
  },
  {
   "cell_type": "code",
   "execution_count": 27,
   "id": "93899dcb-359c-463b-981a-1f9db228308d",
   "metadata": {
    "tags": []
   },
   "outputs": [
    {
     "name": "stdout",
     "output_type": "stream",
     "text": [
      "<class 'pandas.core.frame.DataFrame'>\n",
      "RangeIndex: 578 entries, 0 to 577\n",
      "Data columns (total 15 columns):\n",
      " #   Column      Non-Null Count  Dtype   \n",
      "---  ------      --------------  -----   \n",
      " 0   Unnamed: 0  578 non-null    int64   \n",
      " 1   feature_0   578 non-null    category\n",
      " 2   feature_1   578 non-null    category\n",
      " 3   feature_2   578 non-null    category\n",
      " 4   feature_3   578 non-null    category\n",
      " 5   feature_4   578 non-null    category\n",
      " 6   feature_5   578 non-null    float64 \n",
      " 7   feature_6   578 non-null    int64   \n",
      " 8   feature_7   578 non-null    float64 \n",
      " 9   feature_8   578 non-null    category\n",
      " 10  feature_9   578 non-null    category\n",
      " 11  feature_10  578 non-null    category\n",
      " 12  feature_11  578 non-null    category\n",
      " 13  feature_12  578 non-null    category\n",
      " 14  target      578 non-null    object  \n",
      "dtypes: category(10), float64(2), int64(2), object(1)\n",
      "memory usage: 30.0+ KB\n"
     ]
    }
   ],
   "source": [
    "imputed_df.info()"
   ]
  },
  {
   "cell_type": "code",
   "execution_count": 28,
   "id": "93d92589-b456-4a75-9917-d78482de156b",
   "metadata": {
    "tags": []
   },
   "outputs": [
    {
     "name": "stdout",
     "output_type": "stream",
     "text": [
      "feature: feature_0\n",
      "col_0      freq\n",
      "feature_0      \n",
      "Female      106\n",
      "Male        463\n",
      "missing       9\n",
      "\n",
      "\n",
      "feature: feature_1\n",
      "col_0      freq\n",
      "feature_1      \n",
      "No          197\n",
      "Yes         378\n",
      "missing       3\n",
      "\n",
      "\n",
      "feature: feature_2\n",
      "col_0      freq\n",
      "feature_2      \n",
      "0           323\n",
      "1            94\n",
      "2            97\n",
      "3+           50\n",
      "missing      14\n",
      "\n",
      "\n",
      "feature: feature_3\n",
      "col_0         freq\n",
      "feature_3         \n",
      "Graduate       438\n",
      "Not Graduate   122\n",
      "missing         18\n",
      "\n",
      "\n",
      "feature: feature_4\n",
      "col_0      freq\n",
      "feature_4      \n",
      "No          473\n",
      "Yes          72\n",
      "missing      33\n",
      "\n",
      "\n",
      "feature: feature_10\n",
      "col_0       freq\n",
      "feature_10      \n",
      "Rural        161\n",
      "Semiurban    225\n",
      "Urban        192\n",
      "\n",
      "\n",
      "feature: feature_11\n",
      "col_0       freq\n",
      "feature_11      \n",
      "0            323\n",
      "1             94\n",
      "2             97\n",
      "3+            50\n",
      "missing       14\n",
      "\n",
      "\n",
      "feature: feature_12\n",
      "col_0       freq\n",
      "feature_12      \n",
      "No           473\n",
      "Yes           72\n",
      "missing       33\n",
      "\n",
      "\n",
      "feature: feature_8\n",
      "col_0      freq\n",
      "feature_8      \n",
      "12.0          1\n",
      "36.0          1\n",
      "60.0          2\n",
      "84.0          2\n",
      "120.0         3\n",
      "180.0        43\n",
      "240.0         4\n",
      "300.0        13\n",
      "360.0       479\n",
      "480.0        17\n",
      "missing      13\n",
      "\n",
      "\n",
      "feature: feature_9\n",
      "col_0      freq\n",
      "feature_9      \n",
      "0.0          84\n",
      "1.0         447\n",
      "missing      47\n",
      "\n",
      "\n"
     ]
    }
   ],
   "source": [
    "for f in cats:\n",
    "    print(f\"feature: {f}\")\n",
    "    print(pd.crosstab(index=imputed_df[f], columns='freq'))\n",
    "    print(\"\\n\")"
   ]
  },
  {
   "cell_type": "code",
   "execution_count": 29,
   "id": "d341f5df-c5c4-4770-9f39-25ff07c26f96",
   "metadata": {
    "tags": []
   },
   "outputs": [
    {
     "data": {
      "image/png": "[encoded data removed]",
      "text/plain": [
       "<Figure size 300x300 with 1 Axes>"
      ]
     },
     "metadata": {},
     "output_type": "display_data"
    },
    {
     "data": {
      "image/png": "[encoded data removed]",
      "text/plain": [
       "<Figure size 300x300 with 1 Axes>"
      ]
     },
     "metadata": {},
     "output_type": "display_data"
    },
    {
     "data": {
      "image/png": "[encoded data removed]",
      "text/plain": [
       "<Figure size 300x300 with 1 Axes>"
      ]
     },
     "metadata": {},
     "output_type": "display_data"
    }
   ],
   "source": [
    "for f in conts:\n",
    "    ax = sns.displot(imputed_df[f], kde=False, height=3)\n",
    "    plt.axvline(x=np.mean(imputed_df[f]), color='red', label='mean')\n",
    "    plt.legend(loc='upper right')\n",
    "    plt.title(f\"{f}\")"
   ]
  },
  {
   "cell_type": "markdown",
   "id": "78520ba9-890f-4c6d-bec7-44268a169186",
   "metadata": {},
   "source": [
    "### Target Variable"
   ]
  },
  {
   "cell_type": "code",
   "execution_count": 30,
   "id": "66e8520a-69cd-4bd0-b386-7600f1ee2920",
   "metadata": {
    "tags": []
   },
   "outputs": [],
   "source": [
    "target = 'target'"
   ]
  },
  {
   "cell_type": "code",
   "execution_count": 32,
   "id": "1aa1c67e-6062-4956-82c9-7c0247befb68",
   "metadata": {
    "tags": []
   },
   "outputs": [
    {
     "name": "stdout",
     "output_type": "stream",
     "text": [
      "col_0   freq\n",
      "target      \n",
      "N        183\n",
      "Y        395\n"
     ]
    }
   ],
   "source": [
    "print(pd.crosstab(index=imputed_df[target], columns='freq'))"
   ]
  },
  {
   "cell_type": "code",
   "execution_count": 35,
   "id": "34a628a6-55aa-4618-83a1-524116bba31d",
   "metadata": {
    "tags": []
   },
   "outputs": [
    {
     "data": {
      "text/plain": [
       "0.3166089965397924"
      ]
     },
     "execution_count": 35,
     "metadata": {},
     "output_type": "execute_result"
    }
   ],
   "source": [
    "183 / (183 + 395)"
   ]
  },
  {
   "cell_type": "code",
   "execution_count": 33,
   "id": "5a3c0346-28f6-47aa-aa0a-0c6013dc29de",
   "metadata": {
    "tags": []
   },
   "outputs": [
    {
     "name": "stdout",
     "output_type": "stream",
     "text": [
      "col_0   freq\n",
      "target      \n",
      "N        134\n",
      "Y        294\n"
     ]
    }
   ],
   "source": [
    "print(pd.crosstab(index=complete_df[target], columns='freq'))"
   ]
  },
  {
   "cell_type": "code",
   "execution_count": 34,
   "id": "d45818fe-9c80-44eb-b4d3-73527767a3ef",
   "metadata": {
    "tags": []
   },
   "outputs": [
    {
     "data": {
      "text/plain": [
       "0.3130841121495327"
      ]
     },
     "execution_count": 34,
     "metadata": {},
     "output_type": "execute_result"
    }
   ],
   "source": [
    "134 / (134 + 294)"
   ]
  },
  {
   "cell_type": "markdown",
   "id": "82e38d3e-2e55-4fc4-946c-3e856ed808b4",
   "metadata": {},
   "source": [
    "#### Summary\n",
    "- Slight imbalance with target variable ~31% for both `complete_df` and `imputed_df` \n",
    "- Probably best to not rely on `accuracy` of ML model, but instead `f1_score`, `precision`, `recall` depending on the objective function of the downstream measurement "
   ]
  },
  {
   "cell_type": "code",
   "execution_count": null,
   "id": "7dda8777-53a0-4857-9864-3c24eb1d6274",
   "metadata": {},
   "outputs": [],
   "source": []
  }
 ],
 "metadata": {
  "kernelspec": {
   "display_name": "ivado-assignment-flevcKW5-py3.11",
   "language": "python",
   "name": "ivado-assignment-flevckw5-py3.11"
  },
  "language_info": {
   "codemirror_mode": {
    "name": "ipython",
    "version": 3
   },
   "file_extension": ".py",
   "mimetype": "text/x-python",
   "name": "python",
   "nbconvert_exporter": "python",
   "pygments_lexer": "ipython3",
   "version": "3.11.2"
  }
 },
 "nbformat": 4,
 "nbformat_minor": 5
}
