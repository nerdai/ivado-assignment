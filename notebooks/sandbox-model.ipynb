{
 "cells": [
  {
   "cell_type": "markdown",
   "id": "1c0af7c0-4aa3-4cc9-a53b-796436cecba1",
   "metadata": {},
   "source": [
    "### Sample Model Pipeline"
   ]
  },
  {
   "cell_type": "markdown",
   "id": "3bfce9ae-9d1b-46a1-b742-87656da3bce1",
   "metadata": {},
   "source": [
    "#### Complete-Case Analysis"
   ]
  },
  {
   "cell_type": "code",
   "execution_count": 9,
   "id": "e87d7a80-ac2f-450f-a14a-9efc44c62599",
   "metadata": {
    "tags": []
   },
   "outputs": [],
   "source": [
    "CONTS = ['feature_5', 'feature_6', 'feature_7']\n",
    "CATS = ['feature_0',\n",
    "        'feature_1',\n",
    "        'feature_2',\n",
    "        'feature_3',\n",
    "        'feature_4',\n",
    "        'feature_10',\n",
    "        'feature_11',\n",
    "        'feature_12',\n",
    "        'feature_8',\n",
    "        'feature_9'\n",
    "        ]"
   ]
  },
  {
   "cell_type": "code",
   "execution_count": 10,
   "id": "1c9fb35c-ee66-4e5b-813f-5dee194fffb5",
   "metadata": {
    "tags": []
   },
   "outputs": [],
   "source": [
    "TARGET = 'target'"
   ]
  },
  {
   "cell_type": "code",
   "execution_count": 1,
   "id": "ffb7d89c-6530-4c10-93cf-00f2a93e9089",
   "metadata": {
    "tags": []
   },
   "outputs": [],
   "source": [
    "import pandas as pd"
   ]
  },
  {
   "cell_type": "code",
   "execution_count": 5,
   "id": "54c59bcf-7a42-4118-b4c8-24af9fb3d03e",
   "metadata": {
    "tags": []
   },
   "outputs": [],
   "source": [
    "train = pd.read_csv(\"../data/splits/complete_df/train.csv\")\n",
    "test = pd.read_csv(\"../data/splits/complete_df/test.csv\")"
   ]
  },
  {
   "cell_type": "code",
   "execution_count": 78,
   "id": "cdef092d-9aa6-46d1-8f66-3873b7eb10a0",
   "metadata": {
    "tags": []
   },
   "outputs": [],
   "source": [
    "train[TARGET] = train[TARGET].astype('category').cat.codes\n",
    "test[TARGET] = test[TARGET].astype('category').cat.codes"
   ]
  },
  {
   "cell_type": "code",
   "execution_count": 38,
   "id": "24ae5c36-54ce-4b23-a3bc-e429af5b4d96",
   "metadata": {
    "tags": []
   },
   "outputs": [],
   "source": [
    "from sklearn.ensemble import RandomForestClassifier\n",
    "from sklearn.compose import ColumnTransformer\n",
    "from sklearn.pipeline import Pipeline\n",
    "from sklearn.preprocessing import LabelEncoder, OneHotEncoder"
   ]
  },
  {
   "cell_type": "code",
   "execution_count": 57,
   "id": "a812aeee-5cf5-409c-bf76-35336e9d6b87",
   "metadata": {
    "tags": []
   },
   "outputs": [],
   "source": [
    "model = Pipeline([\n",
    "        ('preprocessor', ColumnTransformer([\n",
    "            (\"enc\", OneHotEncoder(drop='first'), CATS),\n",
    "        ], remainder='passthrough')),\n",
    "        ('clf', RandomForestClassifier()),\n",
    "    ]) "
   ]
  },
  {
   "cell_type": "code",
   "execution_count": 74,
   "id": "546e3136-e9ef-41bc-953e-3ed4da0437b6",
   "metadata": {
    "tags": []
   },
   "outputs": [
    {
     "data": {
      "text/html": [
       "<style>#sk-container-id-5 {color: black;background-color: white;}#sk-container-id-5 pre{padding: 0;}#sk-container-id-5 div.sk-toggleable {background-color: white;}#sk-container-id-5 label.sk-toggleable__label {cursor: pointer;display: block;width: 100%;margin-bottom: 0;padding: 0.3em;box-sizing: border-box;text-align: center;}#sk-container-id-5 label.sk-toggleable__label-arrow:before {content: \"▸\";float: left;margin-right: 0.25em;color: #696969;}#sk-container-id-5 label.sk-toggleable__label-arrow:hover:before {color: black;}#sk-container-id-5 div.sk-estimator:hover label.sk-toggleable__label-arrow:before {color: black;}#sk-container-id-5 div.sk-toggleable__content {max-height: 0;max-width: 0;overflow: hidden;text-align: left;background-color: #f0f8ff;}#sk-container-id-5 div.sk-toggleable__content pre {margin: 0.2em;color: black;border-radius: 0.25em;background-color: #f0f8ff;}#sk-container-id-5 input.sk-toggleable__control:checked~div.sk-toggleable__content {max-height: 200px;max-width: 100%;overflow: auto;}#sk-container-id-5 input.sk-toggleable__control:checked~label.sk-toggleable__label-arrow:before {content: \"▾\";}#sk-container-id-5 div.sk-estimator input.sk-toggleable__control:checked~label.sk-toggleable__label {background-color: #d4ebff;}#sk-container-id-5 div.sk-label input.sk-toggleable__control:checked~label.sk-toggleable__label {background-color: #d4ebff;}#sk-container-id-5 input.sk-hidden--visually {border: 0;clip: rect(1px 1px 1px 1px);clip: rect(1px, 1px, 1px, 1px);height: 1px;margin: -1px;overflow: hidden;padding: 0;position: absolute;width: 1px;}#sk-container-id-5 div.sk-estimator {font-family: monospace;background-color: #f0f8ff;border: 1px dotted black;border-radius: 0.25em;box-sizing: border-box;margin-bottom: 0.5em;}#sk-container-id-5 div.sk-estimator:hover {background-color: #d4ebff;}#sk-container-id-5 div.sk-parallel-item::after {content: \"\";width: 100%;border-bottom: 1px solid gray;flex-grow: 1;}#sk-container-id-5 div.sk-label:hover label.sk-toggleable__label {background-color: #d4ebff;}#sk-container-id-5 div.sk-serial::before {content: \"\";position: absolute;border-left: 1px solid gray;box-sizing: border-box;top: 0;bottom: 0;left: 50%;z-index: 0;}#sk-container-id-5 div.sk-serial {display: flex;flex-direction: column;align-items: center;background-color: white;padding-right: 0.2em;padding-left: 0.2em;position: relative;}#sk-container-id-5 div.sk-item {position: relative;z-index: 1;}#sk-container-id-5 div.sk-parallel {display: flex;align-items: stretch;justify-content: center;background-color: white;position: relative;}#sk-container-id-5 div.sk-item::before, #sk-container-id-5 div.sk-parallel-item::before {content: \"\";position: absolute;border-left: 1px solid gray;box-sizing: border-box;top: 0;bottom: 0;left: 50%;z-index: -1;}#sk-container-id-5 div.sk-parallel-item {display: flex;flex-direction: column;z-index: 1;position: relative;background-color: white;}#sk-container-id-5 div.sk-parallel-item:first-child::after {align-self: flex-end;width: 50%;}#sk-container-id-5 div.sk-parallel-item:last-child::after {align-self: flex-start;width: 50%;}#sk-container-id-5 div.sk-parallel-item:only-child::after {width: 0;}#sk-container-id-5 div.sk-dashed-wrapped {border: 1px dashed gray;margin: 0 0.4em 0.5em 0.4em;box-sizing: border-box;padding-bottom: 0.4em;background-color: white;}#sk-container-id-5 div.sk-label label {font-family: monospace;font-weight: bold;display: inline-block;line-height: 1.2em;}#sk-container-id-5 div.sk-label-container {text-align: center;}#sk-container-id-5 div.sk-container {/* jupyter's `normalize.less` sets `[hidden] { display: none; }` but bootstrap.min.css set `[hidden] { display: none !important; }` so we also need the `!important` here to be able to override the default hidden behavior on the sphinx rendered scikit-learn.org. See: https://github.com/scikit-learn/scikit-learn/issues/21755 */display: inline-block !important;position: relative;}#sk-container-id-5 div.sk-text-repr-fallback {display: none;}</style><div id=\"sk-container-id-5\" class=\"sk-top-container\"><div class=\"sk-text-repr-fallback\"><pre>Pipeline(steps=[(&#x27;preprocessor&#x27;,\n",
       "                 ColumnTransformer(remainder=&#x27;passthrough&#x27;,\n",
       "                                   transformers=[(&#x27;enc&#x27;,\n",
       "                                                  OneHotEncoder(drop=&#x27;first&#x27;),\n",
       "                                                  [&#x27;feature_0&#x27;, &#x27;feature_1&#x27;,\n",
       "                                                   &#x27;feature_2&#x27;, &#x27;feature_3&#x27;,\n",
       "                                                   &#x27;feature_4&#x27;, &#x27;feature_10&#x27;,\n",
       "                                                   &#x27;feature_11&#x27;, &#x27;feature_12&#x27;,\n",
       "                                                   &#x27;feature_8&#x27;,\n",
       "                                                   &#x27;feature_9&#x27;])])),\n",
       "                (&#x27;clf&#x27;, RandomForestClassifier())])</pre><b>In a Jupyter environment, please rerun this cell to show the HTML representation or trust the notebook. <br />On GitHub, the HTML representation is unable to render, please try loading this page with nbviewer.org.</b></div><div class=\"sk-container\" hidden><div class=\"sk-item sk-dashed-wrapped\"><div class=\"sk-label-container\"><div class=\"sk-label sk-toggleable\"><input class=\"sk-toggleable__control sk-hidden--visually\" id=\"sk-estimator-id-21\" type=\"checkbox\" ><label for=\"sk-estimator-id-21\" class=\"sk-toggleable__label sk-toggleable__label-arrow\">Pipeline</label><div class=\"sk-toggleable__content\"><pre>Pipeline(steps=[(&#x27;preprocessor&#x27;,\n",
       "                 ColumnTransformer(remainder=&#x27;passthrough&#x27;,\n",
       "                                   transformers=[(&#x27;enc&#x27;,\n",
       "                                                  OneHotEncoder(drop=&#x27;first&#x27;),\n",
       "                                                  [&#x27;feature_0&#x27;, &#x27;feature_1&#x27;,\n",
       "                                                   &#x27;feature_2&#x27;, &#x27;feature_3&#x27;,\n",
       "                                                   &#x27;feature_4&#x27;, &#x27;feature_10&#x27;,\n",
       "                                                   &#x27;feature_11&#x27;, &#x27;feature_12&#x27;,\n",
       "                                                   &#x27;feature_8&#x27;,\n",
       "                                                   &#x27;feature_9&#x27;])])),\n",
       "                (&#x27;clf&#x27;, RandomForestClassifier())])</pre></div></div></div><div class=\"sk-serial\"><div class=\"sk-item sk-dashed-wrapped\"><div class=\"sk-label-container\"><div class=\"sk-label sk-toggleable\"><input class=\"sk-toggleable__control sk-hidden--visually\" id=\"sk-estimator-id-22\" type=\"checkbox\" ><label for=\"sk-estimator-id-22\" class=\"sk-toggleable__label sk-toggleable__label-arrow\">preprocessor: ColumnTransformer</label><div class=\"sk-toggleable__content\"><pre>ColumnTransformer(remainder=&#x27;passthrough&#x27;,\n",
       "                  transformers=[(&#x27;enc&#x27;, OneHotEncoder(drop=&#x27;first&#x27;),\n",
       "                                 [&#x27;feature_0&#x27;, &#x27;feature_1&#x27;, &#x27;feature_2&#x27;,\n",
       "                                  &#x27;feature_3&#x27;, &#x27;feature_4&#x27;, &#x27;feature_10&#x27;,\n",
       "                                  &#x27;feature_11&#x27;, &#x27;feature_12&#x27;, &#x27;feature_8&#x27;,\n",
       "                                  &#x27;feature_9&#x27;])])</pre></div></div></div><div class=\"sk-parallel\"><div class=\"sk-parallel-item\"><div class=\"sk-item\"><div class=\"sk-label-container\"><div class=\"sk-label sk-toggleable\"><input class=\"sk-toggleable__control sk-hidden--visually\" id=\"sk-estimator-id-23\" type=\"checkbox\" ><label for=\"sk-estimator-id-23\" class=\"sk-toggleable__label sk-toggleable__label-arrow\">enc</label><div class=\"sk-toggleable__content\"><pre>[&#x27;feature_0&#x27;, &#x27;feature_1&#x27;, &#x27;feature_2&#x27;, &#x27;feature_3&#x27;, &#x27;feature_4&#x27;, &#x27;feature_10&#x27;, &#x27;feature_11&#x27;, &#x27;feature_12&#x27;, &#x27;feature_8&#x27;, &#x27;feature_9&#x27;]</pre></div></div></div><div class=\"sk-serial\"><div class=\"sk-item\"><div class=\"sk-estimator sk-toggleable\"><input class=\"sk-toggleable__control sk-hidden--visually\" id=\"sk-estimator-id-24\" type=\"checkbox\" ><label for=\"sk-estimator-id-24\" class=\"sk-toggleable__label sk-toggleable__label-arrow\">OneHotEncoder</label><div class=\"sk-toggleable__content\"><pre>OneHotEncoder(drop=&#x27;first&#x27;)</pre></div></div></div></div></div></div><div class=\"sk-parallel-item\"><div class=\"sk-item\"><div class=\"sk-label-container\"><div class=\"sk-label sk-toggleable\"><input class=\"sk-toggleable__control sk-hidden--visually\" id=\"sk-estimator-id-25\" type=\"checkbox\" ><label for=\"sk-estimator-id-25\" class=\"sk-toggleable__label sk-toggleable__label-arrow\">remainder</label><div class=\"sk-toggleable__content\"><pre>[&#x27;feature_5&#x27;, &#x27;feature_6&#x27;, &#x27;feature_7&#x27;]</pre></div></div></div><div class=\"sk-serial\"><div class=\"sk-item\"><div class=\"sk-estimator sk-toggleable\"><input class=\"sk-toggleable__control sk-hidden--visually\" id=\"sk-estimator-id-26\" type=\"checkbox\" ><label for=\"sk-estimator-id-26\" class=\"sk-toggleable__label sk-toggleable__label-arrow\">passthrough</label><div class=\"sk-toggleable__content\"><pre>passthrough</pre></div></div></div></div></div></div></div></div><div class=\"sk-item\"><div class=\"sk-estimator sk-toggleable\"><input class=\"sk-toggleable__control sk-hidden--visually\" id=\"sk-estimator-id-27\" type=\"checkbox\" ><label for=\"sk-estimator-id-27\" class=\"sk-toggleable__label sk-toggleable__label-arrow\">RandomForestClassifier</label><div class=\"sk-toggleable__content\"><pre>RandomForestClassifier()</pre></div></div></div></div></div></div></div>"
      ],
      "text/plain": [
       "Pipeline(steps=[('preprocessor',\n",
       "                 ColumnTransformer(remainder='passthrough',\n",
       "                                   transformers=[('enc',\n",
       "                                                  OneHotEncoder(drop='first'),\n",
       "                                                  ['feature_0', 'feature_1',\n",
       "                                                   'feature_2', 'feature_3',\n",
       "                                                   'feature_4', 'feature_10',\n",
       "                                                   'feature_11', 'feature_12',\n",
       "                                                   'feature_8',\n",
       "                                                   'feature_9'])])),\n",
       "                ('clf', RandomForestClassifier())])"
      ]
     },
     "execution_count": 74,
     "metadata": {},
     "output_type": "execute_result"
    }
   ],
   "source": [
    "model.fit(train[CONTS + CATS], train[TARGET])"
   ]
  },
  {
   "cell_type": "code",
   "execution_count": 87,
   "id": "cfa6c4a0-8ae9-4d70-9c56-bca2a6bf64bc",
   "metadata": {
    "tags": []
   },
   "outputs": [
    {
     "name": "stdout",
     "output_type": "stream",
     "text": [
      "              precision    recall  f1-score   support\n",
      "\n",
      "           0       0.79      0.47      0.59        32\n",
      "           1       0.75      0.93      0.83        54\n",
      "\n",
      "    accuracy                           0.76        86\n",
      "   macro avg       0.77      0.70      0.71        86\n",
      "weighted avg       0.76      0.76      0.74        86\n",
      "\n",
      "ROC-AUC:  0.6892361111111112\n"
     ]
    }
   ],
   "source": [
    "from sklearn import metrics\n",
    "preds = model.predict(test[CONTS + CATS])\n",
    "preds_proba = model.predict_proba(test[CONTS + CATS])[:,1]\n",
    "print(metrics.classification_report(test[TARGET], preds))\n",
    "print(\"ROC-AUC: \", metrics.roc_auc_score(test[TARGET], preds_proba))"
   ]
  },
  {
   "cell_type": "code",
   "execution_count": 91,
   "id": "2bcb7f63-4123-443f-a237-91d1984f4c7e",
   "metadata": {
    "tags": []
   },
   "outputs": [
    {
     "data": {
      "text/plain": [
       "<seaborn.axisgrid.FacetGrid at 0x17d919290>"
      ]
     },
     "execution_count": 91,
     "metadata": {},
     "output_type": "execute_result"
    },
    {
     "data": {
      "image/png": "[encoded data removed]",
      "text/plain": [
       "<Figure size 300x300 with 1 Axes>"
      ]
     },
     "metadata": {},
     "output_type": "display_data"
    }
   ],
   "source": [
    "sns.displot(preds_proba, kde=True, height=3)"
   ]
  },
  {
   "cell_type": "code",
   "execution_count": null,
   "id": "771288a7-c79a-486e-ae75-7e922e27ad72",
   "metadata": {},
   "outputs": [],
   "source": []
  }
 ],
 "metadata": {
  "kernelspec": {
   "display_name": "mvml-assignment-UTFyV8WI-py3.11",
   "language": "python",
   "name": "mvml-assignment-utfyv8wi-py3.11"
  },
  "language_info": {
   "codemirror_mode": {
    "name": "ipython",
    "version": 3
   },
   "file_extension": ".py",
   "mimetype": "text/x-python",
   "name": "python",
   "nbconvert_exporter": "python",
   "pygments_lexer": "ipython3",
   "version": "3.11.2"
  }
 },
 "nbformat": 4,
 "nbformat_minor": 5
}
