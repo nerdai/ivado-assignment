{
 "cells": [
  {
   "cell_type": "code",
   "execution_count": 1,
   "id": "d6459b39-e938-43da-b648-550ed41bcc71",
   "metadata": {
    "tags": []
   },
   "outputs": [],
   "source": [
    "import warnings\n",
    "warnings.filterwarnings(action='once')\n",
    "warnings.filterwarnings('ignore')"
   ]
  },
  {
   "cell_type": "markdown",
   "id": "1c0af7c0-4aa3-4cc9-a53b-796436cecba1",
   "metadata": {},
   "source": [
    "### Sample Model Pipeline"
   ]
  },
  {
   "cell_type": "markdown",
   "id": "3bfce9ae-9d1b-46a1-b742-87656da3bce1",
   "metadata": {},
   "source": [
    "#### Complete-Case Analysis"
   ]
  },
  {
   "cell_type": "code",
   "execution_count": 2,
   "id": "e87d7a80-ac2f-450f-a14a-9efc44c62599",
   "metadata": {
    "tags": []
   },
   "outputs": [],
   "source": [
    "CONTS = ['feature_5', 'feature_6', 'feature_7']\n",
    "CATS = ['feature_0',\n",
    "        'feature_1',\n",
    "        'feature_2',\n",
    "        'feature_3',\n",
    "        'feature_4',\n",
    "        'feature_10',\n",
    "        'feature_11',\n",
    "        'feature_12',\n",
    "        'feature_8',\n",
    "        'feature_9'\n",
    "        ]"
   ]
  },
  {
   "cell_type": "code",
   "execution_count": 3,
   "id": "1c9fb35c-ee66-4e5b-813f-5dee194fffb5",
   "metadata": {
    "tags": []
   },
   "outputs": [],
   "source": [
    "TARGET = 'target'"
   ]
  },
  {
   "cell_type": "code",
   "execution_count": 4,
   "id": "ffb7d89c-6530-4c10-93cf-00f2a93e9089",
   "metadata": {
    "tags": []
   },
   "outputs": [],
   "source": [
    "import pandas as pd"
   ]
  },
  {
   "cell_type": "code",
   "execution_count": 5,
   "id": "54c59bcf-7a42-4118-b4c8-24af9fb3d03e",
   "metadata": {
    "tags": []
   },
   "outputs": [],
   "source": [
    "train = pd.read_csv(\"../data/splits/complete_df/train.csv\")\n",
    "test = pd.read_csv(\"../data/splits/complete_df/test.csv\")"
   ]
  },
  {
   "cell_type": "code",
   "execution_count": 6,
   "id": "24ae5c36-54ce-4b23-a3bc-e429af5b4d96",
   "metadata": {
    "tags": []
   },
   "outputs": [],
   "source": [
    "from sklearn.ensemble import RandomForestClassifier, GradientBoostingClassifier\n",
    "from imblearn.ensemble import BalancedRandomForestClassifier\n",
    "from sklearn.compose import ColumnTransformer\n",
    "from sklearn.pipeline import Pipeline\n",
    "from sklearn.preprocessing import LabelEncoder, OneHotEncoder"
   ]
  },
  {
   "cell_type": "code",
   "execution_count": 7,
   "id": "a812aeee-5cf5-409c-bf76-35336e9d6b87",
   "metadata": {
    "tags": []
   },
   "outputs": [],
   "source": [
    "model = Pipeline([\n",
    "        ('preprocessor', ColumnTransformer([\n",
    "            (\"enc\", OneHotEncoder(drop='first'), CATS),\n",
    "        ], remainder='passthrough')),\n",
    "        ('clf', GradientBoostingClassifier(random_state=42, n_estimators=25)),\n",
    "    ]) "
   ]
  },
  {
   "cell_type": "code",
   "execution_count": 8,
   "id": "546e3136-e9ef-41bc-953e-3ed4da0437b6",
   "metadata": {
    "tags": []
   },
   "outputs": [
    {
     "data": {
      "text/html": [
       "<style>#sk-container-id-1 {color: black;background-color: white;}#sk-container-id-1 pre{padding: 0;}#sk-container-id-1 div.sk-toggleable {background-color: white;}#sk-container-id-1 label.sk-toggleable__label {cursor: pointer;display: block;width: 100%;margin-bottom: 0;padding: 0.3em;box-sizing: border-box;text-align: center;}#sk-container-id-1 label.sk-toggleable__label-arrow:before {content: \"▸\";float: left;margin-right: 0.25em;color: #696969;}#sk-container-id-1 label.sk-toggleable__label-arrow:hover:before {color: black;}#sk-container-id-1 div.sk-estimator:hover label.sk-toggleable__label-arrow:before {color: black;}#sk-container-id-1 div.sk-toggleable__content {max-height: 0;max-width: 0;overflow: hidden;text-align: left;background-color: #f0f8ff;}#sk-container-id-1 div.sk-toggleable__content pre {margin: 0.2em;color: black;border-radius: 0.25em;background-color: #f0f8ff;}#sk-container-id-1 input.sk-toggleable__control:checked~div.sk-toggleable__content {max-height: 200px;max-width: 100%;overflow: auto;}#sk-container-id-1 input.sk-toggleable__control:checked~label.sk-toggleable__label-arrow:before {content: \"▾\";}#sk-container-id-1 div.sk-estimator input.sk-toggleable__control:checked~label.sk-toggleable__label {background-color: #d4ebff;}#sk-container-id-1 div.sk-label input.sk-toggleable__control:checked~label.sk-toggleable__label {background-color: #d4ebff;}#sk-container-id-1 input.sk-hidden--visually {border: 0;clip: rect(1px 1px 1px 1px);clip: rect(1px, 1px, 1px, 1px);height: 1px;margin: -1px;overflow: hidden;padding: 0;position: absolute;width: 1px;}#sk-container-id-1 div.sk-estimator {font-family: monospace;background-color: #f0f8ff;border: 1px dotted black;border-radius: 0.25em;box-sizing: border-box;margin-bottom: 0.5em;}#sk-container-id-1 div.sk-estimator:hover {background-color: #d4ebff;}#sk-container-id-1 div.sk-parallel-item::after {content: \"\";width: 100%;border-bottom: 1px solid gray;flex-grow: 1;}#sk-container-id-1 div.sk-label:hover label.sk-toggleable__label {background-color: #d4ebff;}#sk-container-id-1 div.sk-serial::before {content: \"\";position: absolute;border-left: 1px solid gray;box-sizing: border-box;top: 0;bottom: 0;left: 50%;z-index: 0;}#sk-container-id-1 div.sk-serial {display: flex;flex-direction: column;align-items: center;background-color: white;padding-right: 0.2em;padding-left: 0.2em;position: relative;}#sk-container-id-1 div.sk-item {position: relative;z-index: 1;}#sk-container-id-1 div.sk-parallel {display: flex;align-items: stretch;justify-content: center;background-color: white;position: relative;}#sk-container-id-1 div.sk-item::before, #sk-container-id-1 div.sk-parallel-item::before {content: \"\";position: absolute;border-left: 1px solid gray;box-sizing: border-box;top: 0;bottom: 0;left: 50%;z-index: -1;}#sk-container-id-1 div.sk-parallel-item {display: flex;flex-direction: column;z-index: 1;position: relative;background-color: white;}#sk-container-id-1 div.sk-parallel-item:first-child::after {align-self: flex-end;width: 50%;}#sk-container-id-1 div.sk-parallel-item:last-child::after {align-self: flex-start;width: 50%;}#sk-container-id-1 div.sk-parallel-item:only-child::after {width: 0;}#sk-container-id-1 div.sk-dashed-wrapped {border: 1px dashed gray;margin: 0 0.4em 0.5em 0.4em;box-sizing: border-box;padding-bottom: 0.4em;background-color: white;}#sk-container-id-1 div.sk-label label {font-family: monospace;font-weight: bold;display: inline-block;line-height: 1.2em;}#sk-container-id-1 div.sk-label-container {text-align: center;}#sk-container-id-1 div.sk-container {/* jupyter's `normalize.less` sets `[hidden] { display: none; }` but bootstrap.min.css set `[hidden] { display: none !important; }` so we also need the `!important` here to be able to override the default hidden behavior on the sphinx rendered scikit-learn.org. See: https://github.com/scikit-learn/scikit-learn/issues/21755 */display: inline-block !important;position: relative;}#sk-container-id-1 div.sk-text-repr-fallback {display: none;}</style><div id=\"sk-container-id-1\" class=\"sk-top-container\"><div class=\"sk-text-repr-fallback\"><pre>Pipeline(steps=[(&#x27;preprocessor&#x27;,\n",
       "                 ColumnTransformer(remainder=&#x27;passthrough&#x27;,\n",
       "                                   transformers=[(&#x27;enc&#x27;,\n",
       "                                                  OneHotEncoder(drop=&#x27;first&#x27;),\n",
       "                                                  [&#x27;feature_0&#x27;, &#x27;feature_1&#x27;,\n",
       "                                                   &#x27;feature_2&#x27;, &#x27;feature_3&#x27;,\n",
       "                                                   &#x27;feature_4&#x27;, &#x27;feature_10&#x27;,\n",
       "                                                   &#x27;feature_11&#x27;, &#x27;feature_12&#x27;,\n",
       "                                                   &#x27;feature_8&#x27;,\n",
       "                                                   &#x27;feature_9&#x27;])])),\n",
       "                (&#x27;clf&#x27;,\n",
       "                 GradientBoostingClassifier(n_estimators=25, random_state=42))])</pre><b>In a Jupyter environment, please rerun this cell to show the HTML representation or trust the notebook. <br />On GitHub, the HTML representation is unable to render, please try loading this page with nbviewer.org.</b></div><div class=\"sk-container\" hidden><div class=\"sk-item sk-dashed-wrapped\"><div class=\"sk-label-container\"><div class=\"sk-label sk-toggleable\"><input class=\"sk-toggleable__control sk-hidden--visually\" id=\"sk-estimator-id-1\" type=\"checkbox\" ><label for=\"sk-estimator-id-1\" class=\"sk-toggleable__label sk-toggleable__label-arrow\">Pipeline</label><div class=\"sk-toggleable__content\"><pre>Pipeline(steps=[(&#x27;preprocessor&#x27;,\n",
       "                 ColumnTransformer(remainder=&#x27;passthrough&#x27;,\n",
       "                                   transformers=[(&#x27;enc&#x27;,\n",
       "                                                  OneHotEncoder(drop=&#x27;first&#x27;),\n",
       "                                                  [&#x27;feature_0&#x27;, &#x27;feature_1&#x27;,\n",
       "                                                   &#x27;feature_2&#x27;, &#x27;feature_3&#x27;,\n",
       "                                                   &#x27;feature_4&#x27;, &#x27;feature_10&#x27;,\n",
       "                                                   &#x27;feature_11&#x27;, &#x27;feature_12&#x27;,\n",
       "                                                   &#x27;feature_8&#x27;,\n",
       "                                                   &#x27;feature_9&#x27;])])),\n",
       "                (&#x27;clf&#x27;,\n",
       "                 GradientBoostingClassifier(n_estimators=25, random_state=42))])</pre></div></div></div><div class=\"sk-serial\"><div class=\"sk-item sk-dashed-wrapped\"><div class=\"sk-label-container\"><div class=\"sk-label sk-toggleable\"><input class=\"sk-toggleable__control sk-hidden--visually\" id=\"sk-estimator-id-2\" type=\"checkbox\" ><label for=\"sk-estimator-id-2\" class=\"sk-toggleable__label sk-toggleable__label-arrow\">preprocessor: ColumnTransformer</label><div class=\"sk-toggleable__content\"><pre>ColumnTransformer(remainder=&#x27;passthrough&#x27;,\n",
       "                  transformers=[(&#x27;enc&#x27;, OneHotEncoder(drop=&#x27;first&#x27;),\n",
       "                                 [&#x27;feature_0&#x27;, &#x27;feature_1&#x27;, &#x27;feature_2&#x27;,\n",
       "                                  &#x27;feature_3&#x27;, &#x27;feature_4&#x27;, &#x27;feature_10&#x27;,\n",
       "                                  &#x27;feature_11&#x27;, &#x27;feature_12&#x27;, &#x27;feature_8&#x27;,\n",
       "                                  &#x27;feature_9&#x27;])])</pre></div></div></div><div class=\"sk-parallel\"><div class=\"sk-parallel-item\"><div class=\"sk-item\"><div class=\"sk-label-container\"><div class=\"sk-label sk-toggleable\"><input class=\"sk-toggleable__control sk-hidden--visually\" id=\"sk-estimator-id-3\" type=\"checkbox\" ><label for=\"sk-estimator-id-3\" class=\"sk-toggleable__label sk-toggleable__label-arrow\">enc</label><div class=\"sk-toggleable__content\"><pre>[&#x27;feature_0&#x27;, &#x27;feature_1&#x27;, &#x27;feature_2&#x27;, &#x27;feature_3&#x27;, &#x27;feature_4&#x27;, &#x27;feature_10&#x27;, &#x27;feature_11&#x27;, &#x27;feature_12&#x27;, &#x27;feature_8&#x27;, &#x27;feature_9&#x27;]</pre></div></div></div><div class=\"sk-serial\"><div class=\"sk-item\"><div class=\"sk-estimator sk-toggleable\"><input class=\"sk-toggleable__control sk-hidden--visually\" id=\"sk-estimator-id-4\" type=\"checkbox\" ><label for=\"sk-estimator-id-4\" class=\"sk-toggleable__label sk-toggleable__label-arrow\">OneHotEncoder</label><div class=\"sk-toggleable__content\"><pre>OneHotEncoder(drop=&#x27;first&#x27;)</pre></div></div></div></div></div></div><div class=\"sk-parallel-item\"><div class=\"sk-item\"><div class=\"sk-label-container\"><div class=\"sk-label sk-toggleable\"><input class=\"sk-toggleable__control sk-hidden--visually\" id=\"sk-estimator-id-5\" type=\"checkbox\" ><label for=\"sk-estimator-id-5\" class=\"sk-toggleable__label sk-toggleable__label-arrow\">remainder</label><div class=\"sk-toggleable__content\"><pre>[&#x27;feature_5&#x27;, &#x27;feature_6&#x27;, &#x27;feature_7&#x27;]</pre></div></div></div><div class=\"sk-serial\"><div class=\"sk-item\"><div class=\"sk-estimator sk-toggleable\"><input class=\"sk-toggleable__control sk-hidden--visually\" id=\"sk-estimator-id-6\" type=\"checkbox\" ><label for=\"sk-estimator-id-6\" class=\"sk-toggleable__label sk-toggleable__label-arrow\">passthrough</label><div class=\"sk-toggleable__content\"><pre>passthrough</pre></div></div></div></div></div></div></div></div><div class=\"sk-item\"><div class=\"sk-estimator sk-toggleable\"><input class=\"sk-toggleable__control sk-hidden--visually\" id=\"sk-estimator-id-7\" type=\"checkbox\" ><label for=\"sk-estimator-id-7\" class=\"sk-toggleable__label sk-toggleable__label-arrow\">GradientBoostingClassifier</label><div class=\"sk-toggleable__content\"><pre>GradientBoostingClassifier(n_estimators=25, random_state=42)</pre></div></div></div></div></div></div></div>"
      ],
      "text/plain": [
       "Pipeline(steps=[('preprocessor',\n",
       "                 ColumnTransformer(remainder='passthrough',\n",
       "                                   transformers=[('enc',\n",
       "                                                  OneHotEncoder(drop='first'),\n",
       "                                                  ['feature_0', 'feature_1',\n",
       "                                                   'feature_2', 'feature_3',\n",
       "                                                   'feature_4', 'feature_10',\n",
       "                                                   'feature_11', 'feature_12',\n",
       "                                                   'feature_8',\n",
       "                                                   'feature_9'])])),\n",
       "                ('clf',\n",
       "                 GradientBoostingClassifier(n_estimators=25, random_state=42))])"
      ]
     },
     "execution_count": 8,
     "metadata": {},
     "output_type": "execute_result"
    }
   ],
   "source": [
    "model.fit(train[CONTS + CATS], train[TARGET])"
   ]
  },
  {
   "cell_type": "code",
   "execution_count": 9,
   "id": "cfa6c4a0-8ae9-4d70-9c56-bca2a6bf64bc",
   "metadata": {
    "tags": []
   },
   "outputs": [
    {
     "name": "stdout",
     "output_type": "stream",
     "text": [
      "              precision    recall  f1-score   support\n",
      "\n",
      "           0       0.94      0.41      0.57        37\n",
      "           1       0.76      0.99      0.86        70\n",
      "\n",
      "    accuracy                           0.79       107\n",
      "   macro avg       0.85      0.70      0.71       107\n",
      "weighted avg       0.82      0.79      0.76       107\n",
      "\n",
      "Confusion:\n",
      " [[15 22]\n",
      " [ 1 69]] \n",
      "\n",
      "ROC-AUC:  0.7555984555984557\n",
      "Log loss:  0.5163488016033108\n",
      "Brier:  0.1690332520859889\n"
     ]
    }
   ],
   "source": [
    "from sklearn import metrics\n",
    "preds = model.predict(test[CONTS + CATS])\n",
    "preds_proba = model.predict_proba(test[CONTS + CATS])[:,1]\n",
    "print(metrics.classification_report(test[TARGET], preds))\n",
    "print(\"Confusion:\\n\", metrics.confusion_matrix(test[TARGET], preds), \"\\n\")\n",
    "print(\"ROC-AUC: \", metrics.roc_auc_score(test[TARGET], preds_proba))\n",
    "print(\"Log loss: \", metrics.log_loss(test[TARGET], preds_proba))\n",
    "print(\"Brier: \", metrics.brier_score_loss(test[TARGET], preds_proba))"
   ]
  },
  {
   "cell_type": "code",
   "execution_count": 10,
   "id": "2bcb7f63-4123-443f-a237-91d1984f4c7e",
   "metadata": {
    "tags": []
   },
   "outputs": [
    {
     "data": {
      "text/plain": [
       "<seaborn.axisgrid.FacetGrid at 0x28e4a5c50>"
      ]
     },
     "execution_count": 10,
     "metadata": {},
     "output_type": "execute_result"
    },
    {
     "data": {
      "image/png": "[encoded data removed]",
      "text/plain": [
       "<Figure size 300x300 with 1 Axes>"
      ]
     },
     "metadata": {},
     "output_type": "display_data"
    }
   ],
   "source": [
    "import seaborn as sns\n",
    "sns.displot(preds_proba, kde=True, height=3)"
   ]
  },
  {
   "cell_type": "markdown",
   "id": "79241dce-1af8-4b94-8213-df647b7f3f4f",
   "metadata": {},
   "source": [
    "### With Imputation"
   ]
  },
  {
   "cell_type": "code",
   "execution_count": 11,
   "id": "835c582d-1a4f-46ad-af08-e7eeaa5714b2",
   "metadata": {
    "tags": []
   },
   "outputs": [],
   "source": [
    "from sklearn.impute import SimpleImputer"
   ]
  },
  {
   "cell_type": "code",
   "execution_count": 12,
   "id": "fee2d43f-2fef-4bb2-b853-0a91f3a94fe4",
   "metadata": {
    "tags": []
   },
   "outputs": [],
   "source": [
    "train = pd.read_csv(\"../data/splits/incomplete_df/train.csv\")\n",
    "test = pd.read_csv(\"../data/splits/incomplete_df/test.csv\")"
   ]
  },
  {
   "cell_type": "code",
   "execution_count": 13,
   "id": "8abbb99b-62ff-42ae-887d-44877d3496ac",
   "metadata": {
    "tags": []
   },
   "outputs": [],
   "source": [
    "for feat in CATS:\n",
    "    train[feat] = pd.Categorical(train[feat].astype(str))\n",
    "    test[feat] = pd.Categorical(test[feat].astype(str))"
   ]
  },
  {
   "cell_type": "code",
   "execution_count": 32,
   "id": "b181d8be-e21f-4747-8375-75722826088c",
   "metadata": {
    "tags": []
   },
   "outputs": [],
   "source": [
    "numeric_transformer = Pipeline(steps=[\n",
    "    ('imputer', SimpleImputer(strategy='median')),\n",
    "    ])\n",
    "\n",
    "categorical_transformer = Pipeline(steps=[\n",
    "    ('imputer', SimpleImputer(strategy='constant', fill_value='missing')),\n",
    "    ('onehot', OneHotEncoder(handle_unknown='ignore', drop='first'))])\n",
    "\n",
    "preprocessor = ColumnTransformer(\n",
    "    transformers=[\n",
    "        ('num', numeric_transformer, CONTS),\n",
    "        ('cat', categorical_transformer, CATS)])"
   ]
  },
  {
   "cell_type": "code",
   "execution_count": 33,
   "id": "0f89726b-d784-4b00-bb8b-4bf83614fafd",
   "metadata": {
    "tags": []
   },
   "outputs": [],
   "source": [
    "model = Pipeline(steps=[('preprocessor', preprocessor),\n",
    "                   ('clf', RandomForestClassifier(random_state=42, n_estimators=25))])  "
   ]
  },
  {
   "cell_type": "code",
   "execution_count": 34,
   "id": "892f4804-c728-4dd3-9069-f28585aaf5c4",
   "metadata": {
    "tags": []
   },
   "outputs": [
    {
     "data": {
      "text/html": [
       "<style>#sk-container-id-6 {color: black;background-color: white;}#sk-container-id-6 pre{padding: 0;}#sk-container-id-6 div.sk-toggleable {background-color: white;}#sk-container-id-6 label.sk-toggleable__label {cursor: pointer;display: block;width: 100%;margin-bottom: 0;padding: 0.3em;box-sizing: border-box;text-align: center;}#sk-container-id-6 label.sk-toggleable__label-arrow:before {content: \"▸\";float: left;margin-right: 0.25em;color: #696969;}#sk-container-id-6 label.sk-toggleable__label-arrow:hover:before {color: black;}#sk-container-id-6 div.sk-estimator:hover label.sk-toggleable__label-arrow:before {color: black;}#sk-container-id-6 div.sk-toggleable__content {max-height: 0;max-width: 0;overflow: hidden;text-align: left;background-color: #f0f8ff;}#sk-container-id-6 div.sk-toggleable__content pre {margin: 0.2em;color: black;border-radius: 0.25em;background-color: #f0f8ff;}#sk-container-id-6 input.sk-toggleable__control:checked~div.sk-toggleable__content {max-height: 200px;max-width: 100%;overflow: auto;}#sk-container-id-6 input.sk-toggleable__control:checked~label.sk-toggleable__label-arrow:before {content: \"▾\";}#sk-container-id-6 div.sk-estimator input.sk-toggleable__control:checked~label.sk-toggleable__label {background-color: #d4ebff;}#sk-container-id-6 div.sk-label input.sk-toggleable__control:checked~label.sk-toggleable__label {background-color: #d4ebff;}#sk-container-id-6 input.sk-hidden--visually {border: 0;clip: rect(1px 1px 1px 1px);clip: rect(1px, 1px, 1px, 1px);height: 1px;margin: -1px;overflow: hidden;padding: 0;position: absolute;width: 1px;}#sk-container-id-6 div.sk-estimator {font-family: monospace;background-color: #f0f8ff;border: 1px dotted black;border-radius: 0.25em;box-sizing: border-box;margin-bottom: 0.5em;}#sk-container-id-6 div.sk-estimator:hover {background-color: #d4ebff;}#sk-container-id-6 div.sk-parallel-item::after {content: \"\";width: 100%;border-bottom: 1px solid gray;flex-grow: 1;}#sk-container-id-6 div.sk-label:hover label.sk-toggleable__label {background-color: #d4ebff;}#sk-container-id-6 div.sk-serial::before {content: \"\";position: absolute;border-left: 1px solid gray;box-sizing: border-box;top: 0;bottom: 0;left: 50%;z-index: 0;}#sk-container-id-6 div.sk-serial {display: flex;flex-direction: column;align-items: center;background-color: white;padding-right: 0.2em;padding-left: 0.2em;position: relative;}#sk-container-id-6 div.sk-item {position: relative;z-index: 1;}#sk-container-id-6 div.sk-parallel {display: flex;align-items: stretch;justify-content: center;background-color: white;position: relative;}#sk-container-id-6 div.sk-item::before, #sk-container-id-6 div.sk-parallel-item::before {content: \"\";position: absolute;border-left: 1px solid gray;box-sizing: border-box;top: 0;bottom: 0;left: 50%;z-index: -1;}#sk-container-id-6 div.sk-parallel-item {display: flex;flex-direction: column;z-index: 1;position: relative;background-color: white;}#sk-container-id-6 div.sk-parallel-item:first-child::after {align-self: flex-end;width: 50%;}#sk-container-id-6 div.sk-parallel-item:last-child::after {align-self: flex-start;width: 50%;}#sk-container-id-6 div.sk-parallel-item:only-child::after {width: 0;}#sk-container-id-6 div.sk-dashed-wrapped {border: 1px dashed gray;margin: 0 0.4em 0.5em 0.4em;box-sizing: border-box;padding-bottom: 0.4em;background-color: white;}#sk-container-id-6 div.sk-label label {font-family: monospace;font-weight: bold;display: inline-block;line-height: 1.2em;}#sk-container-id-6 div.sk-label-container {text-align: center;}#sk-container-id-6 div.sk-container {/* jupyter's `normalize.less` sets `[hidden] { display: none; }` but bootstrap.min.css set `[hidden] { display: none !important; }` so we also need the `!important` here to be able to override the default hidden behavior on the sphinx rendered scikit-learn.org. See: https://github.com/scikit-learn/scikit-learn/issues/21755 */display: inline-block !important;position: relative;}#sk-container-id-6 div.sk-text-repr-fallback {display: none;}</style><div id=\"sk-container-id-6\" class=\"sk-top-container\"><div class=\"sk-text-repr-fallback\"><pre>Pipeline(steps=[(&#x27;preprocessor&#x27;,\n",
       "                 ColumnTransformer(transformers=[(&#x27;num&#x27;,\n",
       "                                                  Pipeline(steps=[(&#x27;imputer&#x27;,\n",
       "                                                                   SimpleImputer(strategy=&#x27;median&#x27;))]),\n",
       "                                                  [&#x27;feature_5&#x27;, &#x27;feature_6&#x27;,\n",
       "                                                   &#x27;feature_7&#x27;]),\n",
       "                                                 (&#x27;cat&#x27;,\n",
       "                                                  Pipeline(steps=[(&#x27;imputer&#x27;,\n",
       "                                                                   SimpleImputer(fill_value=&#x27;missing&#x27;,\n",
       "                                                                                 strategy=&#x27;constant&#x27;)),\n",
       "                                                                  (&#x27;onehot&#x27;,\n",
       "                                                                   OneHotEncoder(drop=&#x27;first&#x27;,\n",
       "                                                                                 handle_unknown=&#x27;ignore&#x27;))]),\n",
       "                                                  [&#x27;feature_0&#x27;, &#x27;feature_1&#x27;,\n",
       "                                                   &#x27;feature_2&#x27;, &#x27;feature_3&#x27;,\n",
       "                                                   &#x27;feature_4&#x27;, &#x27;feature_10&#x27;,\n",
       "                                                   &#x27;feature_11&#x27;, &#x27;feature_12&#x27;,\n",
       "                                                   &#x27;feature_8&#x27;,\n",
       "                                                   &#x27;feature_9&#x27;])])),\n",
       "                (&#x27;clf&#x27;,\n",
       "                 RandomForestClassifier(n_estimators=25, random_state=42))])</pre><b>In a Jupyter environment, please rerun this cell to show the HTML representation or trust the notebook. <br />On GitHub, the HTML representation is unable to render, please try loading this page with nbviewer.org.</b></div><div class=\"sk-container\" hidden><div class=\"sk-item sk-dashed-wrapped\"><div class=\"sk-label-container\"><div class=\"sk-label sk-toggleable\"><input class=\"sk-toggleable__control sk-hidden--visually\" id=\"sk-estimator-id-41\" type=\"checkbox\" ><label for=\"sk-estimator-id-41\" class=\"sk-toggleable__label sk-toggleable__label-arrow\">Pipeline</label><div class=\"sk-toggleable__content\"><pre>Pipeline(steps=[(&#x27;preprocessor&#x27;,\n",
       "                 ColumnTransformer(transformers=[(&#x27;num&#x27;,\n",
       "                                                  Pipeline(steps=[(&#x27;imputer&#x27;,\n",
       "                                                                   SimpleImputer(strategy=&#x27;median&#x27;))]),\n",
       "                                                  [&#x27;feature_5&#x27;, &#x27;feature_6&#x27;,\n",
       "                                                   &#x27;feature_7&#x27;]),\n",
       "                                                 (&#x27;cat&#x27;,\n",
       "                                                  Pipeline(steps=[(&#x27;imputer&#x27;,\n",
       "                                                                   SimpleImputer(fill_value=&#x27;missing&#x27;,\n",
       "                                                                                 strategy=&#x27;constant&#x27;)),\n",
       "                                                                  (&#x27;onehot&#x27;,\n",
       "                                                                   OneHotEncoder(drop=&#x27;first&#x27;,\n",
       "                                                                                 handle_unknown=&#x27;ignore&#x27;))]),\n",
       "                                                  [&#x27;feature_0&#x27;, &#x27;feature_1&#x27;,\n",
       "                                                   &#x27;feature_2&#x27;, &#x27;feature_3&#x27;,\n",
       "                                                   &#x27;feature_4&#x27;, &#x27;feature_10&#x27;,\n",
       "                                                   &#x27;feature_11&#x27;, &#x27;feature_12&#x27;,\n",
       "                                                   &#x27;feature_8&#x27;,\n",
       "                                                   &#x27;feature_9&#x27;])])),\n",
       "                (&#x27;clf&#x27;,\n",
       "                 RandomForestClassifier(n_estimators=25, random_state=42))])</pre></div></div></div><div class=\"sk-serial\"><div class=\"sk-item sk-dashed-wrapped\"><div class=\"sk-label-container\"><div class=\"sk-label sk-toggleable\"><input class=\"sk-toggleable__control sk-hidden--visually\" id=\"sk-estimator-id-42\" type=\"checkbox\" ><label for=\"sk-estimator-id-42\" class=\"sk-toggleable__label sk-toggleable__label-arrow\">preprocessor: ColumnTransformer</label><div class=\"sk-toggleable__content\"><pre>ColumnTransformer(transformers=[(&#x27;num&#x27;,\n",
       "                                 Pipeline(steps=[(&#x27;imputer&#x27;,\n",
       "                                                  SimpleImputer(strategy=&#x27;median&#x27;))]),\n",
       "                                 [&#x27;feature_5&#x27;, &#x27;feature_6&#x27;, &#x27;feature_7&#x27;]),\n",
       "                                (&#x27;cat&#x27;,\n",
       "                                 Pipeline(steps=[(&#x27;imputer&#x27;,\n",
       "                                                  SimpleImputer(fill_value=&#x27;missing&#x27;,\n",
       "                                                                strategy=&#x27;constant&#x27;)),\n",
       "                                                 (&#x27;onehot&#x27;,\n",
       "                                                  OneHotEncoder(drop=&#x27;first&#x27;,\n",
       "                                                                handle_unknown=&#x27;ignore&#x27;))]),\n",
       "                                 [&#x27;feature_0&#x27;, &#x27;feature_1&#x27;, &#x27;feature_2&#x27;,\n",
       "                                  &#x27;feature_3&#x27;, &#x27;feature_4&#x27;, &#x27;feature_10&#x27;,\n",
       "                                  &#x27;feature_11&#x27;, &#x27;feature_12&#x27;, &#x27;feature_8&#x27;,\n",
       "                                  &#x27;feature_9&#x27;])])</pre></div></div></div><div class=\"sk-parallel\"><div class=\"sk-parallel-item\"><div class=\"sk-item\"><div class=\"sk-label-container\"><div class=\"sk-label sk-toggleable\"><input class=\"sk-toggleable__control sk-hidden--visually\" id=\"sk-estimator-id-43\" type=\"checkbox\" ><label for=\"sk-estimator-id-43\" class=\"sk-toggleable__label sk-toggleable__label-arrow\">num</label><div class=\"sk-toggleable__content\"><pre>[&#x27;feature_5&#x27;, &#x27;feature_6&#x27;, &#x27;feature_7&#x27;]</pre></div></div></div><div class=\"sk-serial\"><div class=\"sk-item\"><div class=\"sk-serial\"><div class=\"sk-item\"><div class=\"sk-estimator sk-toggleable\"><input class=\"sk-toggleable__control sk-hidden--visually\" id=\"sk-estimator-id-44\" type=\"checkbox\" ><label for=\"sk-estimator-id-44\" class=\"sk-toggleable__label sk-toggleable__label-arrow\">SimpleImputer</label><div class=\"sk-toggleable__content\"><pre>SimpleImputer(strategy=&#x27;median&#x27;)</pre></div></div></div></div></div></div></div></div><div class=\"sk-parallel-item\"><div class=\"sk-item\"><div class=\"sk-label-container\"><div class=\"sk-label sk-toggleable\"><input class=\"sk-toggleable__control sk-hidden--visually\" id=\"sk-estimator-id-45\" type=\"checkbox\" ><label for=\"sk-estimator-id-45\" class=\"sk-toggleable__label sk-toggleable__label-arrow\">cat</label><div class=\"sk-toggleable__content\"><pre>[&#x27;feature_0&#x27;, &#x27;feature_1&#x27;, &#x27;feature_2&#x27;, &#x27;feature_3&#x27;, &#x27;feature_4&#x27;, &#x27;feature_10&#x27;, &#x27;feature_11&#x27;, &#x27;feature_12&#x27;, &#x27;feature_8&#x27;, &#x27;feature_9&#x27;]</pre></div></div></div><div class=\"sk-serial\"><div class=\"sk-item\"><div class=\"sk-serial\"><div class=\"sk-item\"><div class=\"sk-estimator sk-toggleable\"><input class=\"sk-toggleable__control sk-hidden--visually\" id=\"sk-estimator-id-46\" type=\"checkbox\" ><label for=\"sk-estimator-id-46\" class=\"sk-toggleable__label sk-toggleable__label-arrow\">SimpleImputer</label><div class=\"sk-toggleable__content\"><pre>SimpleImputer(fill_value=&#x27;missing&#x27;, strategy=&#x27;constant&#x27;)</pre></div></div></div><div class=\"sk-item\"><div class=\"sk-estimator sk-toggleable\"><input class=\"sk-toggleable__control sk-hidden--visually\" id=\"sk-estimator-id-47\" type=\"checkbox\" ><label for=\"sk-estimator-id-47\" class=\"sk-toggleable__label sk-toggleable__label-arrow\">OneHotEncoder</label><div class=\"sk-toggleable__content\"><pre>OneHotEncoder(drop=&#x27;first&#x27;, handle_unknown=&#x27;ignore&#x27;)</pre></div></div></div></div></div></div></div></div></div></div><div class=\"sk-item\"><div class=\"sk-estimator sk-toggleable\"><input class=\"sk-toggleable__control sk-hidden--visually\" id=\"sk-estimator-id-48\" type=\"checkbox\" ><label for=\"sk-estimator-id-48\" class=\"sk-toggleable__label sk-toggleable__label-arrow\">RandomForestClassifier</label><div class=\"sk-toggleable__content\"><pre>RandomForestClassifier(n_estimators=25, random_state=42)</pre></div></div></div></div></div></div></div>"
      ],
      "text/plain": [
       "Pipeline(steps=[('preprocessor',\n",
       "                 ColumnTransformer(transformers=[('num',\n",
       "                                                  Pipeline(steps=[('imputer',\n",
       "                                                                   SimpleImputer(strategy='median'))]),\n",
       "                                                  ['feature_5', 'feature_6',\n",
       "                                                   'feature_7']),\n",
       "                                                 ('cat',\n",
       "                                                  Pipeline(steps=[('imputer',\n",
       "                                                                   SimpleImputer(fill_value='missing',\n",
       "                                                                                 strategy='constant')),\n",
       "                                                                  ('onehot',\n",
       "                                                                   OneHotEncoder(drop='first',\n",
       "                                                                                 handle_unknown='ignore'))]),\n",
       "                                                  ['feature_0', 'feature_1',\n",
       "                                                   'feature_2', 'feature_3',\n",
       "                                                   'feature_4', 'feature_10',\n",
       "                                                   'feature_11', 'feature_12',\n",
       "                                                   'feature_8',\n",
       "                                                   'feature_9'])])),\n",
       "                ('clf',\n",
       "                 RandomForestClassifier(n_estimators=25, random_state=42))])"
      ]
     },
     "execution_count": 34,
     "metadata": {},
     "output_type": "execute_result"
    }
   ],
   "source": [
    "model.fit(train[CONTS + CATS], train[TARGET])"
   ]
  },
  {
   "cell_type": "code",
   "execution_count": 35,
   "id": "73d8d7e1-a020-417e-8904-34a09283e844",
   "metadata": {
    "tags": []
   },
   "outputs": [
    {
     "name": "stdout",
     "output_type": "stream",
     "text": [
      "              precision    recall  f1-score   support\n",
      "\n",
      "           0       0.58      0.40      0.47        45\n",
      "           1       0.76      0.87      0.81       100\n",
      "\n",
      "    accuracy                           0.72       145\n",
      "   macro avg       0.67      0.64      0.64       145\n",
      "weighted avg       0.71      0.72      0.71       145\n",
      "\n",
      "Confusion:\n",
      " [[18 27]\n",
      " [13 87]] \n",
      "\n",
      "ROC-AUC:  0.6845555555555555\n",
      "Log loss:  0.8275069903732186\n",
      "Brier:  0.20017806558761436\n"
     ]
    }
   ],
   "source": [
    "from sklearn import metrics\n",
    "preds = model.predict(test[CONTS + CATS])\n",
    "preds_proba = model.predict_proba(test[CONTS + CATS])[:,1]\n",
    "print(metrics.classification_report(test[TARGET], preds))\n",
    "print(\"Confusion:\\n\", metrics.confusion_matrix(test[TARGET], preds), \"\\n\")\n",
    "print(\"ROC-AUC: \", metrics.roc_auc_score(test[TARGET], preds_proba))\n",
    "print(\"Log loss: \", metrics.log_loss(test[TARGET], preds_proba))\n",
    "print(\"Brier: \", metrics.brier_score_loss(test[TARGET], preds_proba))"
   ]
  },
  {
   "cell_type": "code",
   "execution_count": 18,
   "id": "3db7e8d5-e81e-4fd7-b76d-3bee3abc2277",
   "metadata": {
    "tags": []
   },
   "outputs": [
    {
     "data": {
      "text/plain": [
       "<seaborn.axisgrid.FacetGrid at 0x28c6d56d0>"
      ]
     },
     "execution_count": 18,
     "metadata": {},
     "output_type": "execute_result"
    },
    {
     "data": {
      "image/png": "[encoded data removed]",
      "text/plain": [
       "<Figure size 300x300 with 1 Axes>"
      ]
     },
     "metadata": {},
     "output_type": "display_data"
    }
   ],
   "source": [
    "import seaborn as sns\n",
    "sns.displot(preds_proba, kde=True, height=3)"
   ]
  },
  {
   "cell_type": "markdown",
   "id": "b961af59-62ea-4d31-9a35-dc12b272c821",
   "metadata": {},
   "source": [
    "### Hyperparameter Tuning and Model Selection"
   ]
  },
  {
   "cell_type": "code",
   "execution_count": 19,
   "id": "ed360d68-937c-45d7-9486-633c8cb4a4dc",
   "metadata": {
    "tags": []
   },
   "outputs": [],
   "source": [
    "from skopt import BayesSearchCV"
   ]
  },
  {
   "cell_type": "code",
   "execution_count": 37,
   "id": "3e6fd188-b524-4943-a900-e8997b655c56",
   "metadata": {
    "tags": []
   },
   "outputs": [],
   "source": [
    "model = Pipeline(steps=[('preprocessor', preprocessor),\n",
    "                   ('clf', RandomForestClassifier(random_state=42))])  "
   ]
  },
  {
   "cell_type": "code",
   "execution_count": 38,
   "id": "28a4b8e3-4b5c-4b41-86b4-33975fac1b85",
   "metadata": {
    "tags": []
   },
   "outputs": [],
   "source": [
    "from sklearn.metrics import make_scorer"
   ]
  },
  {
   "cell_type": "code",
   "execution_count": 39,
   "id": "96266c98-df80-4db4-8158-a9b8168f265f",
   "metadata": {
    "tags": []
   },
   "outputs": [],
   "source": [
    "parameters = {\n",
    "    \"clf__n_estimators\": [25, 50, 100]\n",
    "}\n",
    "\n",
    "bayes = BayesSearchCV(model,\n",
    "                      search_spaces=parameters,\n",
    "                      scoring=make_scorer(metrics.f1_score, pos_label=0),\n",
    "                      n_iter=20, cv=4)"
   ]
  },
  {
   "cell_type": "code",
   "execution_count": 43,
   "id": "ad8c5f14-3675-46ca-9fbc-18dc2bf9322f",
   "metadata": {
    "tags": []
   },
   "outputs": [
    {
     "data": {
      "text/plain": [
       "'RandomForestClassifier'"
      ]
     },
     "execution_count": 43,
     "metadata": {},
     "output_type": "execute_result"
    }
   ],
   "source": [
    "bayes.best_estimator_.named_steps.clf.__class__.__name__"
   ]
  },
  {
   "cell_type": "code",
   "execution_count": 40,
   "id": "88507268-e144-4b69-a2d3-7ce8d9a3fcb9",
   "metadata": {
    "tags": []
   },
   "outputs": [
    {
     "name": "stderr",
     "output_type": "stream",
     "text": [
      "/Users/nerdai/Library/Caches/pypoetry/virtualenvs/ivado-assignment-flevcKW5-py3.11/lib/python3.11/site-packages/sklearn/preprocessing/_encoders.py:202: UserWarning: Found unknown categories in columns [1, 8] during transform. These unknown categories will be encoded as all zeros\n",
      "  warnings.warn(\n",
      "/Users/nerdai/Library/Caches/pypoetry/virtualenvs/ivado-assignment-flevcKW5-py3.11/lib/python3.11/site-packages/sklearn/preprocessing/_encoders.py:202: UserWarning: Found unknown categories in columns [8] during transform. These unknown categories will be encoded as all zeros\n",
      "  warnings.warn(\n",
      "/Users/nerdai/Library/Caches/pypoetry/virtualenvs/ivado-assignment-flevcKW5-py3.11/lib/python3.11/site-packages/sklearn/preprocessing/_encoders.py:202: UserWarning: Found unknown categories in columns [1, 8] during transform. These unknown categories will be encoded as all zeros\n",
      "  warnings.warn(\n",
      "/Users/nerdai/Library/Caches/pypoetry/virtualenvs/ivado-assignment-flevcKW5-py3.11/lib/python3.11/site-packages/sklearn/preprocessing/_encoders.py:202: UserWarning: Found unknown categories in columns [8] during transform. These unknown categories will be encoded as all zeros\n",
      "  warnings.warn(\n",
      "/Users/nerdai/Library/Caches/pypoetry/virtualenvs/ivado-assignment-flevcKW5-py3.11/lib/python3.11/site-packages/sklearn/preprocessing/_encoders.py:202: UserWarning: Found unknown categories in columns [1, 8] during transform. These unknown categories will be encoded as all zeros\n",
      "  warnings.warn(\n",
      "/Users/nerdai/Library/Caches/pypoetry/virtualenvs/ivado-assignment-flevcKW5-py3.11/lib/python3.11/site-packages/sklearn/preprocessing/_encoders.py:202: UserWarning: Found unknown categories in columns [8] during transform. These unknown categories will be encoded as all zeros\n",
      "  warnings.warn(\n",
      "/Users/nerdai/Library/Caches/pypoetry/virtualenvs/ivado-assignment-flevcKW5-py3.11/lib/python3.11/site-packages/sklearn/preprocessing/_encoders.py:202: UserWarning: Found unknown categories in columns [1, 8] during transform. These unknown categories will be encoded as all zeros\n",
      "  warnings.warn(\n",
      "/Users/nerdai/Library/Caches/pypoetry/virtualenvs/ivado-assignment-flevcKW5-py3.11/lib/python3.11/site-packages/sklearn/preprocessing/_encoders.py:202: UserWarning: Found unknown categories in columns [8] during transform. These unknown categories will be encoded as all zeros\n",
      "  warnings.warn(\n",
      "/Users/nerdai/Library/Caches/pypoetry/virtualenvs/ivado-assignment-flevcKW5-py3.11/lib/python3.11/site-packages/sklearn/preprocessing/_encoders.py:202: UserWarning: Found unknown categories in columns [1, 8] during transform. These unknown categories will be encoded as all zeros\n",
      "  warnings.warn(\n",
      "/Users/nerdai/Library/Caches/pypoetry/virtualenvs/ivado-assignment-flevcKW5-py3.11/lib/python3.11/site-packages/sklearn/preprocessing/_encoders.py:202: UserWarning: Found unknown categories in columns [8] during transform. These unknown categories will be encoded as all zeros\n",
      "  warnings.warn(\n",
      "/Users/nerdai/Library/Caches/pypoetry/virtualenvs/ivado-assignment-flevcKW5-py3.11/lib/python3.11/site-packages/sklearn/preprocessing/_encoders.py:202: UserWarning: Found unknown categories in columns [1, 8] during transform. These unknown categories will be encoded as all zeros\n",
      "  warnings.warn(\n",
      "/Users/nerdai/Library/Caches/pypoetry/virtualenvs/ivado-assignment-flevcKW5-py3.11/lib/python3.11/site-packages/sklearn/preprocessing/_encoders.py:202: UserWarning: Found unknown categories in columns [8] during transform. These unknown categories will be encoded as all zeros\n",
      "  warnings.warn(\n",
      "/Users/nerdai/Library/Caches/pypoetry/virtualenvs/ivado-assignment-flevcKW5-py3.11/lib/python3.11/site-packages/sklearn/preprocessing/_encoders.py:202: UserWarning: Found unknown categories in columns [1, 8] during transform. These unknown categories will be encoded as all zeros\n",
      "  warnings.warn(\n",
      "/Users/nerdai/Library/Caches/pypoetry/virtualenvs/ivado-assignment-flevcKW5-py3.11/lib/python3.11/site-packages/sklearn/preprocessing/_encoders.py:202: UserWarning: Found unknown categories in columns [8] during transform. These unknown categories will be encoded as all zeros\n",
      "  warnings.warn(\n",
      "/Users/nerdai/Library/Caches/pypoetry/virtualenvs/ivado-assignment-flevcKW5-py3.11/lib/python3.11/site-packages/sklearn/preprocessing/_encoders.py:202: UserWarning: Found unknown categories in columns [1, 8] during transform. These unknown categories will be encoded as all zeros\n",
      "  warnings.warn(\n",
      "/Users/nerdai/Library/Caches/pypoetry/virtualenvs/ivado-assignment-flevcKW5-py3.11/lib/python3.11/site-packages/sklearn/preprocessing/_encoders.py:202: UserWarning: Found unknown categories in columns [8] during transform. These unknown categories will be encoded as all zeros\n",
      "  warnings.warn(\n",
      "/Users/nerdai/Library/Caches/pypoetry/virtualenvs/ivado-assignment-flevcKW5-py3.11/lib/python3.11/site-packages/sklearn/preprocessing/_encoders.py:202: UserWarning: Found unknown categories in columns [1, 8] during transform. These unknown categories will be encoded as all zeros\n",
      "  warnings.warn(\n",
      "/Users/nerdai/Library/Caches/pypoetry/virtualenvs/ivado-assignment-flevcKW5-py3.11/lib/python3.11/site-packages/sklearn/preprocessing/_encoders.py:202: UserWarning: Found unknown categories in columns [8] during transform. These unknown categories will be encoded as all zeros\n",
      "  warnings.warn(\n",
      "/Users/nerdai/Library/Caches/pypoetry/virtualenvs/ivado-assignment-flevcKW5-py3.11/lib/python3.11/site-packages/sklearn/preprocessing/_encoders.py:202: UserWarning: Found unknown categories in columns [1, 8] during transform. These unknown categories will be encoded as all zeros\n",
      "  warnings.warn(\n",
      "/Users/nerdai/Library/Caches/pypoetry/virtualenvs/ivado-assignment-flevcKW5-py3.11/lib/python3.11/site-packages/sklearn/preprocessing/_encoders.py:202: UserWarning: Found unknown categories in columns [8] during transform. These unknown categories will be encoded as all zeros\n",
      "  warnings.warn(\n",
      "/Users/nerdai/Library/Caches/pypoetry/virtualenvs/ivado-assignment-flevcKW5-py3.11/lib/python3.11/site-packages/skopt/optimizer/optimizer.py:449: UserWarning: The objective has been evaluated at this point before.\n",
      "  warnings.warn(\"The objective has been evaluated \"\n",
      "/Users/nerdai/Library/Caches/pypoetry/virtualenvs/ivado-assignment-flevcKW5-py3.11/lib/python3.11/site-packages/sklearn/preprocessing/_encoders.py:202: UserWarning: Found unknown categories in columns [1, 8] during transform. These unknown categories will be encoded as all zeros\n",
      "  warnings.warn(\n",
      "/Users/nerdai/Library/Caches/pypoetry/virtualenvs/ivado-assignment-flevcKW5-py3.11/lib/python3.11/site-packages/sklearn/preprocessing/_encoders.py:202: UserWarning: Found unknown categories in columns [8] during transform. These unknown categories will be encoded as all zeros\n",
      "  warnings.warn(\n",
      "/Users/nerdai/Library/Caches/pypoetry/virtualenvs/ivado-assignment-flevcKW5-py3.11/lib/python3.11/site-packages/skopt/optimizer/optimizer.py:449: UserWarning: The objective has been evaluated at this point before.\n",
      "  warnings.warn(\"The objective has been evaluated \"\n",
      "/Users/nerdai/Library/Caches/pypoetry/virtualenvs/ivado-assignment-flevcKW5-py3.11/lib/python3.11/site-packages/sklearn/preprocessing/_encoders.py:202: UserWarning: Found unknown categories in columns [1, 8] during transform. These unknown categories will be encoded as all zeros\n",
      "  warnings.warn(\n",
      "/Users/nerdai/Library/Caches/pypoetry/virtualenvs/ivado-assignment-flevcKW5-py3.11/lib/python3.11/site-packages/sklearn/preprocessing/_encoders.py:202: UserWarning: Found unknown categories in columns [8] during transform. These unknown categories will be encoded as all zeros\n",
      "  warnings.warn(\n",
      "/Users/nerdai/Library/Caches/pypoetry/virtualenvs/ivado-assignment-flevcKW5-py3.11/lib/python3.11/site-packages/skopt/optimizer/optimizer.py:449: UserWarning: The objective has been evaluated at this point before.\n",
      "  warnings.warn(\"The objective has been evaluated \"\n",
      "/Users/nerdai/Library/Caches/pypoetry/virtualenvs/ivado-assignment-flevcKW5-py3.11/lib/python3.11/site-packages/sklearn/preprocessing/_encoders.py:202: UserWarning: Found unknown categories in columns [1, 8] during transform. These unknown categories will be encoded as all zeros\n",
      "  warnings.warn(\n",
      "/Users/nerdai/Library/Caches/pypoetry/virtualenvs/ivado-assignment-flevcKW5-py3.11/lib/python3.11/site-packages/sklearn/preprocessing/_encoders.py:202: UserWarning: Found unknown categories in columns [8] during transform. These unknown categories will be encoded as all zeros\n",
      "  warnings.warn(\n",
      "/Users/nerdai/Library/Caches/pypoetry/virtualenvs/ivado-assignment-flevcKW5-py3.11/lib/python3.11/site-packages/skopt/optimizer/optimizer.py:449: UserWarning: The objective has been evaluated at this point before.\n",
      "  warnings.warn(\"The objective has been evaluated \"\n",
      "/Users/nerdai/Library/Caches/pypoetry/virtualenvs/ivado-assignment-flevcKW5-py3.11/lib/python3.11/site-packages/sklearn/preprocessing/_encoders.py:202: UserWarning: Found unknown categories in columns [1, 8] during transform. These unknown categories will be encoded as all zeros\n",
      "  warnings.warn(\n",
      "/Users/nerdai/Library/Caches/pypoetry/virtualenvs/ivado-assignment-flevcKW5-py3.11/lib/python3.11/site-packages/sklearn/preprocessing/_encoders.py:202: UserWarning: Found unknown categories in columns [8] during transform. These unknown categories will be encoded as all zeros\n",
      "  warnings.warn(\n",
      "/Users/nerdai/Library/Caches/pypoetry/virtualenvs/ivado-assignment-flevcKW5-py3.11/lib/python3.11/site-packages/skopt/optimizer/optimizer.py:449: UserWarning: The objective has been evaluated at this point before.\n",
      "  warnings.warn(\"The objective has been evaluated \"\n",
      "/Users/nerdai/Library/Caches/pypoetry/virtualenvs/ivado-assignment-flevcKW5-py3.11/lib/python3.11/site-packages/sklearn/preprocessing/_encoders.py:202: UserWarning: Found unknown categories in columns [1, 8] during transform. These unknown categories will be encoded as all zeros\n",
      "  warnings.warn(\n",
      "/Users/nerdai/Library/Caches/pypoetry/virtualenvs/ivado-assignment-flevcKW5-py3.11/lib/python3.11/site-packages/sklearn/preprocessing/_encoders.py:202: UserWarning: Found unknown categories in columns [8] during transform. These unknown categories will be encoded as all zeros\n",
      "  warnings.warn(\n",
      "/Users/nerdai/Library/Caches/pypoetry/virtualenvs/ivado-assignment-flevcKW5-py3.11/lib/python3.11/site-packages/skopt/optimizer/optimizer.py:449: UserWarning: The objective has been evaluated at this point before.\n",
      "  warnings.warn(\"The objective has been evaluated \"\n",
      "/Users/nerdai/Library/Caches/pypoetry/virtualenvs/ivado-assignment-flevcKW5-py3.11/lib/python3.11/site-packages/sklearn/preprocessing/_encoders.py:202: UserWarning: Found unknown categories in columns [1, 8] during transform. These unknown categories will be encoded as all zeros\n",
      "  warnings.warn(\n",
      "/Users/nerdai/Library/Caches/pypoetry/virtualenvs/ivado-assignment-flevcKW5-py3.11/lib/python3.11/site-packages/sklearn/preprocessing/_encoders.py:202: UserWarning: Found unknown categories in columns [8] during transform. These unknown categories will be encoded as all zeros\n",
      "  warnings.warn(\n",
      "/Users/nerdai/Library/Caches/pypoetry/virtualenvs/ivado-assignment-flevcKW5-py3.11/lib/python3.11/site-packages/skopt/optimizer/optimizer.py:449: UserWarning: The objective has been evaluated at this point before.\n",
      "  warnings.warn(\"The objective has been evaluated \"\n",
      "/Users/nerdai/Library/Caches/pypoetry/virtualenvs/ivado-assignment-flevcKW5-py3.11/lib/python3.11/site-packages/sklearn/preprocessing/_encoders.py:202: UserWarning: Found unknown categories in columns [1, 8] during transform. These unknown categories will be encoded as all zeros\n",
      "  warnings.warn(\n",
      "/Users/nerdai/Library/Caches/pypoetry/virtualenvs/ivado-assignment-flevcKW5-py3.11/lib/python3.11/site-packages/sklearn/preprocessing/_encoders.py:202: UserWarning: Found unknown categories in columns [8] during transform. These unknown categories will be encoded as all zeros\n",
      "  warnings.warn(\n",
      "/Users/nerdai/Library/Caches/pypoetry/virtualenvs/ivado-assignment-flevcKW5-py3.11/lib/python3.11/site-packages/skopt/optimizer/optimizer.py:449: UserWarning: The objective has been evaluated at this point before.\n",
      "  warnings.warn(\"The objective has been evaluated \"\n",
      "/Users/nerdai/Library/Caches/pypoetry/virtualenvs/ivado-assignment-flevcKW5-py3.11/lib/python3.11/site-packages/sklearn/preprocessing/_encoders.py:202: UserWarning: Found unknown categories in columns [1, 8] during transform. These unknown categories will be encoded as all zeros\n",
      "  warnings.warn(\n",
      "/Users/nerdai/Library/Caches/pypoetry/virtualenvs/ivado-assignment-flevcKW5-py3.11/lib/python3.11/site-packages/sklearn/preprocessing/_encoders.py:202: UserWarning: Found unknown categories in columns [8] during transform. These unknown categories will be encoded as all zeros\n",
      "  warnings.warn(\n",
      "/Users/nerdai/Library/Caches/pypoetry/virtualenvs/ivado-assignment-flevcKW5-py3.11/lib/python3.11/site-packages/skopt/optimizer/optimizer.py:449: UserWarning: The objective has been evaluated at this point before.\n",
      "  warnings.warn(\"The objective has been evaluated \"\n",
      "/Users/nerdai/Library/Caches/pypoetry/virtualenvs/ivado-assignment-flevcKW5-py3.11/lib/python3.11/site-packages/sklearn/preprocessing/_encoders.py:202: UserWarning: Found unknown categories in columns [1, 8] during transform. These unknown categories will be encoded as all zeros\n",
      "  warnings.warn(\n",
      "/Users/nerdai/Library/Caches/pypoetry/virtualenvs/ivado-assignment-flevcKW5-py3.11/lib/python3.11/site-packages/sklearn/preprocessing/_encoders.py:202: UserWarning: Found unknown categories in columns [8] during transform. These unknown categories will be encoded as all zeros\n",
      "  warnings.warn(\n",
      "/Users/nerdai/Library/Caches/pypoetry/virtualenvs/ivado-assignment-flevcKW5-py3.11/lib/python3.11/site-packages/skopt/optimizer/optimizer.py:449: UserWarning: The objective has been evaluated at this point before.\n",
      "  warnings.warn(\"The objective has been evaluated \"\n",
      "/Users/nerdai/Library/Caches/pypoetry/virtualenvs/ivado-assignment-flevcKW5-py3.11/lib/python3.11/site-packages/sklearn/preprocessing/_encoders.py:202: UserWarning: Found unknown categories in columns [1, 8] during transform. These unknown categories will be encoded as all zeros\n",
      "  warnings.warn(\n",
      "/Users/nerdai/Library/Caches/pypoetry/virtualenvs/ivado-assignment-flevcKW5-py3.11/lib/python3.11/site-packages/sklearn/preprocessing/_encoders.py:202: UserWarning: Found unknown categories in columns [8] during transform. These unknown categories will be encoded as all zeros\n",
      "  warnings.warn(\n"
     ]
    },
    {
     "data": {
      "text/html": [
       "<style>#sk-container-id-7 {color: black;background-color: white;}#sk-container-id-7 pre{padding: 0;}#sk-container-id-7 div.sk-toggleable {background-color: white;}#sk-container-id-7 label.sk-toggleable__label {cursor: pointer;display: block;width: 100%;margin-bottom: 0;padding: 0.3em;box-sizing: border-box;text-align: center;}#sk-container-id-7 label.sk-toggleable__label-arrow:before {content: \"▸\";float: left;margin-right: 0.25em;color: #696969;}#sk-container-id-7 label.sk-toggleable__label-arrow:hover:before {color: black;}#sk-container-id-7 div.sk-estimator:hover label.sk-toggleable__label-arrow:before {color: black;}#sk-container-id-7 div.sk-toggleable__content {max-height: 0;max-width: 0;overflow: hidden;text-align: left;background-color: #f0f8ff;}#sk-container-id-7 div.sk-toggleable__content pre {margin: 0.2em;color: black;border-radius: 0.25em;background-color: #f0f8ff;}#sk-container-id-7 input.sk-toggleable__control:checked~div.sk-toggleable__content {max-height: 200px;max-width: 100%;overflow: auto;}#sk-container-id-7 input.sk-toggleable__control:checked~label.sk-toggleable__label-arrow:before {content: \"▾\";}#sk-container-id-7 div.sk-estimator input.sk-toggleable__control:checked~label.sk-toggleable__label {background-color: #d4ebff;}#sk-container-id-7 div.sk-label input.sk-toggleable__control:checked~label.sk-toggleable__label {background-color: #d4ebff;}#sk-container-id-7 input.sk-hidden--visually {border: 0;clip: rect(1px 1px 1px 1px);clip: rect(1px, 1px, 1px, 1px);height: 1px;margin: -1px;overflow: hidden;padding: 0;position: absolute;width: 1px;}#sk-container-id-7 div.sk-estimator {font-family: monospace;background-color: #f0f8ff;border: 1px dotted black;border-radius: 0.25em;box-sizing: border-box;margin-bottom: 0.5em;}#sk-container-id-7 div.sk-estimator:hover {background-color: #d4ebff;}#sk-container-id-7 div.sk-parallel-item::after {content: \"\";width: 100%;border-bottom: 1px solid gray;flex-grow: 1;}#sk-container-id-7 div.sk-label:hover label.sk-toggleable__label {background-color: #d4ebff;}#sk-container-id-7 div.sk-serial::before {content: \"\";position: absolute;border-left: 1px solid gray;box-sizing: border-box;top: 0;bottom: 0;left: 50%;z-index: 0;}#sk-container-id-7 div.sk-serial {display: flex;flex-direction: column;align-items: center;background-color: white;padding-right: 0.2em;padding-left: 0.2em;position: relative;}#sk-container-id-7 div.sk-item {position: relative;z-index: 1;}#sk-container-id-7 div.sk-parallel {display: flex;align-items: stretch;justify-content: center;background-color: white;position: relative;}#sk-container-id-7 div.sk-item::before, #sk-container-id-7 div.sk-parallel-item::before {content: \"\";position: absolute;border-left: 1px solid gray;box-sizing: border-box;top: 0;bottom: 0;left: 50%;z-index: -1;}#sk-container-id-7 div.sk-parallel-item {display: flex;flex-direction: column;z-index: 1;position: relative;background-color: white;}#sk-container-id-7 div.sk-parallel-item:first-child::after {align-self: flex-end;width: 50%;}#sk-container-id-7 div.sk-parallel-item:last-child::after {align-self: flex-start;width: 50%;}#sk-container-id-7 div.sk-parallel-item:only-child::after {width: 0;}#sk-container-id-7 div.sk-dashed-wrapped {border: 1px dashed gray;margin: 0 0.4em 0.5em 0.4em;box-sizing: border-box;padding-bottom: 0.4em;background-color: white;}#sk-container-id-7 div.sk-label label {font-family: monospace;font-weight: bold;display: inline-block;line-height: 1.2em;}#sk-container-id-7 div.sk-label-container {text-align: center;}#sk-container-id-7 div.sk-container {/* jupyter's `normalize.less` sets `[hidden] { display: none; }` but bootstrap.min.css set `[hidden] { display: none !important; }` so we also need the `!important` here to be able to override the default hidden behavior on the sphinx rendered scikit-learn.org. See: https://github.com/scikit-learn/scikit-learn/issues/21755 */display: inline-block !important;position: relative;}#sk-container-id-7 div.sk-text-repr-fallback {display: none;}</style><div id=\"sk-container-id-7\" class=\"sk-top-container\"><div class=\"sk-text-repr-fallback\"><pre>BayesSearchCV(cv=4,\n",
       "              estimator=Pipeline(steps=[(&#x27;preprocessor&#x27;,\n",
       "                                         ColumnTransformer(transformers=[(&#x27;num&#x27;,\n",
       "                                                                          Pipeline(steps=[(&#x27;imputer&#x27;,\n",
       "                                                                                           SimpleImputer(strategy=&#x27;median&#x27;))]),\n",
       "                                                                          [&#x27;feature_5&#x27;,\n",
       "                                                                           &#x27;feature_6&#x27;,\n",
       "                                                                           &#x27;feature_7&#x27;]),\n",
       "                                                                         (&#x27;cat&#x27;,\n",
       "                                                                          Pipeline(steps=[(&#x27;imputer&#x27;,\n",
       "                                                                                           SimpleImputer(fill_value=&#x27;missing&#x27;,\n",
       "                                                                                                         strategy=&#x27;constant&#x27;)),\n",
       "                                                                                          (&#x27;onehot&#x27;,\n",
       "                                                                                           OneHotEncoder(drop=&#x27;first&#x27;,\n",
       "                                                                                                         handle_unknown=&#x27;ignore&#x27;))]),\n",
       "                                                                          [&#x27;feature_0&#x27;,\n",
       "                                                                           &#x27;feature_1&#x27;,\n",
       "                                                                           &#x27;feature_2&#x27;,\n",
       "                                                                           &#x27;feature_3&#x27;,\n",
       "                                                                           &#x27;feature_4&#x27;,\n",
       "                                                                           &#x27;feature_10&#x27;,\n",
       "                                                                           &#x27;feature_11&#x27;,\n",
       "                                                                           &#x27;feature_12&#x27;,\n",
       "                                                                           &#x27;feature_8&#x27;,\n",
       "                                                                           &#x27;feature_9&#x27;])])),\n",
       "                                        (&#x27;clf&#x27;,\n",
       "                                         RandomForestClassifier(random_state=42))]),\n",
       "              n_iter=20, scoring=make_scorer(f1_score, pos_label=0),\n",
       "              search_spaces={&#x27;clf__n_estimators&#x27;: [25, 50, 100]})</pre><b>In a Jupyter environment, please rerun this cell to show the HTML representation or trust the notebook. <br />On GitHub, the HTML representation is unable to render, please try loading this page with nbviewer.org.</b></div><div class=\"sk-container\" hidden><div class=\"sk-item sk-dashed-wrapped\"><div class=\"sk-label-container\"><div class=\"sk-label sk-toggleable\"><input class=\"sk-toggleable__control sk-hidden--visually\" id=\"sk-estimator-id-49\" type=\"checkbox\" ><label for=\"sk-estimator-id-49\" class=\"sk-toggleable__label sk-toggleable__label-arrow\">BayesSearchCV</label><div class=\"sk-toggleable__content\"><pre>BayesSearchCV(cv=4,\n",
       "              estimator=Pipeline(steps=[(&#x27;preprocessor&#x27;,\n",
       "                                         ColumnTransformer(transformers=[(&#x27;num&#x27;,\n",
       "                                                                          Pipeline(steps=[(&#x27;imputer&#x27;,\n",
       "                                                                                           SimpleImputer(strategy=&#x27;median&#x27;))]),\n",
       "                                                                          [&#x27;feature_5&#x27;,\n",
       "                                                                           &#x27;feature_6&#x27;,\n",
       "                                                                           &#x27;feature_7&#x27;]),\n",
       "                                                                         (&#x27;cat&#x27;,\n",
       "                                                                          Pipeline(steps=[(&#x27;imputer&#x27;,\n",
       "                                                                                           SimpleImputer(fill_value=&#x27;missing&#x27;,\n",
       "                                                                                                         strategy=&#x27;constant&#x27;)),\n",
       "                                                                                          (&#x27;onehot&#x27;,\n",
       "                                                                                           OneHotEncoder(drop=&#x27;first&#x27;,\n",
       "                                                                                                         handle_unknown=&#x27;ignore&#x27;))]),\n",
       "                                                                          [&#x27;feature_0&#x27;,\n",
       "                                                                           &#x27;feature_1&#x27;,\n",
       "                                                                           &#x27;feature_2&#x27;,\n",
       "                                                                           &#x27;feature_3&#x27;,\n",
       "                                                                           &#x27;feature_4&#x27;,\n",
       "                                                                           &#x27;feature_10&#x27;,\n",
       "                                                                           &#x27;feature_11&#x27;,\n",
       "                                                                           &#x27;feature_12&#x27;,\n",
       "                                                                           &#x27;feature_8&#x27;,\n",
       "                                                                           &#x27;feature_9&#x27;])])),\n",
       "                                        (&#x27;clf&#x27;,\n",
       "                                         RandomForestClassifier(random_state=42))]),\n",
       "              n_iter=20, scoring=make_scorer(f1_score, pos_label=0),\n",
       "              search_spaces={&#x27;clf__n_estimators&#x27;: [25, 50, 100]})</pre></div></div></div><div class=\"sk-parallel\"><div class=\"sk-parallel-item\"><div class=\"sk-item\"><div class=\"sk-label-container\"><div class=\"sk-label sk-toggleable\"><input class=\"sk-toggleable__control sk-hidden--visually\" id=\"sk-estimator-id-50\" type=\"checkbox\" ><label for=\"sk-estimator-id-50\" class=\"sk-toggleable__label sk-toggleable__label-arrow\">estimator: Pipeline</label><div class=\"sk-toggleable__content\"><pre>Pipeline(steps=[(&#x27;preprocessor&#x27;,\n",
       "                 ColumnTransformer(transformers=[(&#x27;num&#x27;,\n",
       "                                                  Pipeline(steps=[(&#x27;imputer&#x27;,\n",
       "                                                                   SimpleImputer(strategy=&#x27;median&#x27;))]),\n",
       "                                                  [&#x27;feature_5&#x27;, &#x27;feature_6&#x27;,\n",
       "                                                   &#x27;feature_7&#x27;]),\n",
       "                                                 (&#x27;cat&#x27;,\n",
       "                                                  Pipeline(steps=[(&#x27;imputer&#x27;,\n",
       "                                                                   SimpleImputer(fill_value=&#x27;missing&#x27;,\n",
       "                                                                                 strategy=&#x27;constant&#x27;)),\n",
       "                                                                  (&#x27;onehot&#x27;,\n",
       "                                                                   OneHotEncoder(drop=&#x27;first&#x27;,\n",
       "                                                                                 handle_unknown=&#x27;ignore&#x27;))]),\n",
       "                                                  [&#x27;feature_0&#x27;, &#x27;feature_1&#x27;,\n",
       "                                                   &#x27;feature_2&#x27;, &#x27;feature_3&#x27;,\n",
       "                                                   &#x27;feature_4&#x27;, &#x27;feature_10&#x27;,\n",
       "                                                   &#x27;feature_11&#x27;, &#x27;feature_12&#x27;,\n",
       "                                                   &#x27;feature_8&#x27;,\n",
       "                                                   &#x27;feature_9&#x27;])])),\n",
       "                (&#x27;clf&#x27;, RandomForestClassifier(random_state=42))])</pre></div></div></div><div class=\"sk-serial\"><div class=\"sk-item\"><div class=\"sk-serial\"><div class=\"sk-item sk-dashed-wrapped\"><div class=\"sk-label-container\"><div class=\"sk-label sk-toggleable\"><input class=\"sk-toggleable__control sk-hidden--visually\" id=\"sk-estimator-id-51\" type=\"checkbox\" ><label for=\"sk-estimator-id-51\" class=\"sk-toggleable__label sk-toggleable__label-arrow\">preprocessor: ColumnTransformer</label><div class=\"sk-toggleable__content\"><pre>ColumnTransformer(transformers=[(&#x27;num&#x27;,\n",
       "                                 Pipeline(steps=[(&#x27;imputer&#x27;,\n",
       "                                                  SimpleImputer(strategy=&#x27;median&#x27;))]),\n",
       "                                 [&#x27;feature_5&#x27;, &#x27;feature_6&#x27;, &#x27;feature_7&#x27;]),\n",
       "                                (&#x27;cat&#x27;,\n",
       "                                 Pipeline(steps=[(&#x27;imputer&#x27;,\n",
       "                                                  SimpleImputer(fill_value=&#x27;missing&#x27;,\n",
       "                                                                strategy=&#x27;constant&#x27;)),\n",
       "                                                 (&#x27;onehot&#x27;,\n",
       "                                                  OneHotEncoder(drop=&#x27;first&#x27;,\n",
       "                                                                handle_unknown=&#x27;ignore&#x27;))]),\n",
       "                                 [&#x27;feature_0&#x27;, &#x27;feature_1&#x27;, &#x27;feature_2&#x27;,\n",
       "                                  &#x27;feature_3&#x27;, &#x27;feature_4&#x27;, &#x27;feature_10&#x27;,\n",
       "                                  &#x27;feature_11&#x27;, &#x27;feature_12&#x27;, &#x27;feature_8&#x27;,\n",
       "                                  &#x27;feature_9&#x27;])])</pre></div></div></div><div class=\"sk-parallel\"><div class=\"sk-parallel-item\"><div class=\"sk-item\"><div class=\"sk-label-container\"><div class=\"sk-label sk-toggleable\"><input class=\"sk-toggleable__control sk-hidden--visually\" id=\"sk-estimator-id-52\" type=\"checkbox\" ><label for=\"sk-estimator-id-52\" class=\"sk-toggleable__label sk-toggleable__label-arrow\">num</label><div class=\"sk-toggleable__content\"><pre>[&#x27;feature_5&#x27;, &#x27;feature_6&#x27;, &#x27;feature_7&#x27;]</pre></div></div></div><div class=\"sk-serial\"><div class=\"sk-item\"><div class=\"sk-serial\"><div class=\"sk-item\"><div class=\"sk-estimator sk-toggleable\"><input class=\"sk-toggleable__control sk-hidden--visually\" id=\"sk-estimator-id-53\" type=\"checkbox\" ><label for=\"sk-estimator-id-53\" class=\"sk-toggleable__label sk-toggleable__label-arrow\">SimpleImputer</label><div class=\"sk-toggleable__content\"><pre>SimpleImputer(strategy=&#x27;median&#x27;)</pre></div></div></div></div></div></div></div></div><div class=\"sk-parallel-item\"><div class=\"sk-item\"><div class=\"sk-label-container\"><div class=\"sk-label sk-toggleable\"><input class=\"sk-toggleable__control sk-hidden--visually\" id=\"sk-estimator-id-54\" type=\"checkbox\" ><label for=\"sk-estimator-id-54\" class=\"sk-toggleable__label sk-toggleable__label-arrow\">cat</label><div class=\"sk-toggleable__content\"><pre>[&#x27;feature_0&#x27;, &#x27;feature_1&#x27;, &#x27;feature_2&#x27;, &#x27;feature_3&#x27;, &#x27;feature_4&#x27;, &#x27;feature_10&#x27;, &#x27;feature_11&#x27;, &#x27;feature_12&#x27;, &#x27;feature_8&#x27;, &#x27;feature_9&#x27;]</pre></div></div></div><div class=\"sk-serial\"><div class=\"sk-item\"><div class=\"sk-serial\"><div class=\"sk-item\"><div class=\"sk-estimator sk-toggleable\"><input class=\"sk-toggleable__control sk-hidden--visually\" id=\"sk-estimator-id-55\" type=\"checkbox\" ><label for=\"sk-estimator-id-55\" class=\"sk-toggleable__label sk-toggleable__label-arrow\">SimpleImputer</label><div class=\"sk-toggleable__content\"><pre>SimpleImputer(fill_value=&#x27;missing&#x27;, strategy=&#x27;constant&#x27;)</pre></div></div></div><div class=\"sk-item\"><div class=\"sk-estimator sk-toggleable\"><input class=\"sk-toggleable__control sk-hidden--visually\" id=\"sk-estimator-id-56\" type=\"checkbox\" ><label for=\"sk-estimator-id-56\" class=\"sk-toggleable__label sk-toggleable__label-arrow\">OneHotEncoder</label><div class=\"sk-toggleable__content\"><pre>OneHotEncoder(drop=&#x27;first&#x27;, handle_unknown=&#x27;ignore&#x27;)</pre></div></div></div></div></div></div></div></div></div></div><div class=\"sk-item\"><div class=\"sk-estimator sk-toggleable\"><input class=\"sk-toggleable__control sk-hidden--visually\" id=\"sk-estimator-id-57\" type=\"checkbox\" ><label for=\"sk-estimator-id-57\" class=\"sk-toggleable__label sk-toggleable__label-arrow\">RandomForestClassifier</label><div class=\"sk-toggleable__content\"><pre>RandomForestClassifier(random_state=42)</pre></div></div></div></div></div></div></div></div></div></div></div></div>"
      ],
      "text/plain": [
       "BayesSearchCV(cv=4,\n",
       "              estimator=Pipeline(steps=[('preprocessor',\n",
       "                                         ColumnTransformer(transformers=[('num',\n",
       "                                                                          Pipeline(steps=[('imputer',\n",
       "                                                                                           SimpleImputer(strategy='median'))]),\n",
       "                                                                          ['feature_5',\n",
       "                                                                           'feature_6',\n",
       "                                                                           'feature_7']),\n",
       "                                                                         ('cat',\n",
       "                                                                          Pipeline(steps=[('imputer',\n",
       "                                                                                           SimpleImputer(fill_value='missing',\n",
       "                                                                                                         strategy='constant')),\n",
       "                                                                                          ('onehot',\n",
       "                                                                                           OneHotEncoder(drop='first',\n",
       "                                                                                                         handle_unknown='ignore'))]),\n",
       "                                                                          ['feature_0',\n",
       "                                                                           'feature_1',\n",
       "                                                                           'feature_2',\n",
       "                                                                           'feature_3',\n",
       "                                                                           'feature_4',\n",
       "                                                                           'feature_10',\n",
       "                                                                           'feature_11',\n",
       "                                                                           'feature_12',\n",
       "                                                                           'feature_8',\n",
       "                                                                           'feature_9'])])),\n",
       "                                        ('clf',\n",
       "                                         RandomForestClassifier(random_state=42))]),\n",
       "              n_iter=20, scoring=make_scorer(f1_score, pos_label=0),\n",
       "              search_spaces={'clf__n_estimators': [25, 50, 100]})"
      ]
     },
     "execution_count": 40,
     "metadata": {},
     "output_type": "execute_result"
    }
   ],
   "source": [
    "bayes.fit(train[CONTS + CATS], train[TARGET])"
   ]
  },
  {
   "cell_type": "code",
   "execution_count": 41,
   "id": "df3e4412-8e92-4e61-bffb-7dd08a18e6d6",
   "metadata": {
    "tags": []
   },
   "outputs": [
    {
     "data": {
      "text/plain": [
       "0.5965408805031446"
      ]
     },
     "execution_count": 41,
     "metadata": {},
     "output_type": "execute_result"
    }
   ],
   "source": [
    "bayes.best_score_"
   ]
  },
  {
   "cell_type": "code",
   "execution_count": 25,
   "id": "6dfb357a-bc7b-4e5c-be47-36a4beab2f2d",
   "metadata": {
    "tags": []
   },
   "outputs": [
    {
     "data": {
      "text/plain": [
       "(433, 17)"
      ]
     },
     "execution_count": 25,
     "metadata": {},
     "output_type": "execute_result"
    }
   ],
   "source": [
    "train.shape"
   ]
  },
  {
   "cell_type": "code",
   "execution_count": 29,
   "id": "5488655e-c483-4e9e-bd5f-77e3997c5836",
   "metadata": {
    "tags": []
   },
   "outputs": [
    {
     "data": {
      "text/plain": [
       "<433x2 sparse matrix of type '<class 'numpy.float64'>'\n",
       "\twith 351 stored elements in Compressed Sparse Row format>"
      ]
     },
     "execution_count": 29,
     "metadata": {},
     "output_type": "execute_result"
    }
   ],
   "source": [
    "categorical_transformer.fit_transform(train[[CATS[0]]])"
   ]
  },
  {
   "cell_type": "code",
   "execution_count": 27,
   "id": "3811622a-9a1c-4599-ba19-487ff0d17222",
   "metadata": {
    "tags": []
   },
   "outputs": [
    {
     "name": "stdout",
     "output_type": "stream",
     "text": [
      "              precision    recall  f1-score   support\n",
      "\n",
      "           0       0.45      0.44      0.45        45\n",
      "           1       0.75      0.76      0.76       100\n",
      "\n",
      "    accuracy                           0.66       145\n",
      "   macro avg       0.60      0.60      0.60       145\n",
      "weighted avg       0.66      0.66      0.66       145\n",
      "\n",
      "Confusion:\n",
      " [[20 25]\n",
      " [24 76]] \n",
      "\n",
      "ROC-AUC:  0.6635555555555556\n",
      "Log loss:  0.624745301648208\n",
      "Brier:  0.21612589949175073\n"
     ]
    }
   ],
   "source": [
    "from sklearn import metrics\n",
    "preds = bayes.predict(test[CONTS + CATS])\n",
    "preds_proba = bayes.predict_proba(test[CONTS + CATS])[:,1]\n",
    "print(metrics.classification_report(test[TARGET], preds))\n",
    "print(\"Confusion:\\n\", metrics.confusion_matrix(test[TARGET], preds), \"\\n\")\n",
    "print(\"ROC-AUC: \", metrics.roc_auc_score(test[TARGET], preds_proba))\n",
    "print(\"Log loss: \", metrics.log_loss(test[TARGET], preds_proba))\n",
    "print(\"Brier: \", metrics.brier_score_loss(test[TARGET], preds_proba))"
   ]
  },
  {
   "cell_type": "code",
   "execution_count": 45,
   "id": "8b3bed02-3281-4341-968f-88ebbb6a198e",
   "metadata": {
    "tags": []
   },
   "outputs": [
    {
     "data": {
      "text/plain": [
       "{'mean_fit_time': array([0.02421844, 0.01941669, 0.03468609, 0.06328678, 0.03464508,\n",
       "        0.06665033, 0.02051991, 0.03399789, 0.03443325, 0.08894807,\n",
       "        0.02993608, 0.04934084, 0.04313791, 0.04549068, 0.05207199,\n",
       "        0.04738754, 0.04982156, 0.02793992, 0.02134377, 0.0601927 ]),\n",
       " 'std_fit_time': array([0.004141  , 0.00011272, 0.0003332 , 0.00051747, 0.00080278,\n",
       "        0.00144356, 0.00052557, 0.00017804, 0.00024036, 0.03735808,\n",
       "        0.00699575, 0.00787138, 0.0186163 , 0.0146008 , 0.02837078,\n",
       "        0.0188888 , 0.01137419, 0.00745839, 0.00089568, 0.02872764]),\n",
       " 'mean_score_time': array([0.00410265, 0.00334024, 0.00422758, 0.00561738, 0.00431645,\n",
       "        0.00633299, 0.0039072 , 0.00404716, 0.00418603, 0.01212418,\n",
       "        0.01108736, 0.00756216, 0.0048123 , 0.01719081, 0.0058431 ,\n",
       "        0.00744194, 0.00643653, 0.00893408, 0.00527602, 0.00783426]),\n",
       " 'std_score_time': array([7.78186544e-04, 6.42078984e-05, 2.08605315e-04, 2.14798336e-04,\n",
       "        1.95788293e-04, 4.08878080e-04, 3.62202120e-04, 3.92359770e-05,\n",
       "        1.79626565e-04, 1.08344427e-02, 6.62855331e-03, 2.93896781e-03,\n",
       "        2.13496136e-03, 1.86724637e-02, 2.70941667e-03, 2.96285759e-03,\n",
       "        3.38221547e-03, 6.54910674e-03, 2.92108394e-03, 5.92219160e-03]),\n",
       " 'param_clf__n_estimators': masked_array(data=[25, 25, 50, 100, 50, 100, 25, 50, 50, 100, 25, 50, 25,\n",
       "                    50, 50, 50, 50, 25, 25, 50],\n",
       "              mask=[False, False, False, False, False, False, False, False,\n",
       "                    False, False, False, False, False, False, False, False,\n",
       "                    False, False, False, False],\n",
       "        fill_value='?',\n",
       "             dtype=object),\n",
       " 'params': [OrderedDict([('clf__n_estimators', 25)]),\n",
       "  OrderedDict([('clf__n_estimators', 25)]),\n",
       "  OrderedDict([('clf__n_estimators', 50)]),\n",
       "  OrderedDict([('clf__n_estimators', 100)]),\n",
       "  OrderedDict([('clf__n_estimators', 50)]),\n",
       "  OrderedDict([('clf__n_estimators', 100)]),\n",
       "  OrderedDict([('clf__n_estimators', 25)]),\n",
       "  OrderedDict([('clf__n_estimators', 50)]),\n",
       "  OrderedDict([('clf__n_estimators', 50)]),\n",
       "  OrderedDict([('clf__n_estimators', 100)]),\n",
       "  OrderedDict([('clf__n_estimators', 25)]),\n",
       "  OrderedDict([('clf__n_estimators', 50)]),\n",
       "  OrderedDict([('clf__n_estimators', 25)]),\n",
       "  OrderedDict([('clf__n_estimators', 50)]),\n",
       "  OrderedDict([('clf__n_estimators', 50)]),\n",
       "  OrderedDict([('clf__n_estimators', 50)]),\n",
       "  OrderedDict([('clf__n_estimators', 50)]),\n",
       "  OrderedDict([('clf__n_estimators', 25)]),\n",
       "  OrderedDict([('clf__n_estimators', 25)]),\n",
       "  OrderedDict([('clf__n_estimators', 50)])],\n",
       " 'split0_test_score': array([0.45901639, 0.45901639, 0.5       , 0.5483871 , 0.5       ,\n",
       "        0.5483871 , 0.45901639, 0.5       , 0.5       , 0.5483871 ,\n",
       "        0.45901639, 0.5       , 0.45901639, 0.5       , 0.5       ,\n",
       "        0.5       , 0.5       , 0.45901639, 0.45901639, 0.5       ]),\n",
       " 'split1_test_score': array([0.72413793, 0.72413793, 0.76666667, 0.6779661 , 0.76666667,\n",
       "        0.6779661 , 0.72413793, 0.76666667, 0.76666667, 0.6779661 ,\n",
       "        0.72413793, 0.76666667, 0.72413793, 0.76666667, 0.76666667,\n",
       "        0.76666667, 0.76666667, 0.72413793, 0.72413793, 0.76666667]),\n",
       " 'split2_test_score': array([0.41509434, 0.41509434, 0.45283019, 0.47058824, 0.45283019,\n",
       "        0.47058824, 0.41509434, 0.45283019, 0.45283019, 0.47058824,\n",
       "        0.41509434, 0.45283019, 0.41509434, 0.45283019, 0.45283019,\n",
       "        0.45283019, 0.45283019, 0.41509434, 0.41509434, 0.45283019]),\n",
       " 'split3_test_score': array([0.62295082, 0.62295082, 0.66666667, 0.62295082, 0.66666667,\n",
       "        0.62295082, 0.62295082, 0.66666667, 0.66666667, 0.62295082,\n",
       "        0.62295082, 0.66666667, 0.62295082, 0.66666667, 0.66666667,\n",
       "        0.66666667, 0.66666667, 0.62295082, 0.62295082, 0.66666667]),\n",
       " 'mean_test_score': array([0.55529987, 0.55529987, 0.59654088, 0.57997306, 0.59654088,\n",
       "        0.57997306, 0.55529987, 0.59654088, 0.59654088, 0.57997306,\n",
       "        0.55529987, 0.59654088, 0.55529987, 0.59654088, 0.59654088,\n",
       "        0.59654088, 0.59654088, 0.55529987, 0.55529987, 0.59654088]),\n",
       " 'std_test_score': array([0.12451008, 0.12451008, 0.12632628, 0.0781224 , 0.12632628,\n",
       "        0.0781224 , 0.12451008, 0.12632628, 0.12632628, 0.0781224 ,\n",
       "        0.12451008, 0.12632628, 0.12451008, 0.12632628, 0.12632628,\n",
       "        0.12632628, 0.12632628, 0.12451008, 0.12451008, 0.12632628]),\n",
       " 'rank_test_score': array([14, 14,  1, 11,  1, 11, 14,  1,  1, 11, 14,  1, 14,  1,  1,  1,  1,\n",
       "        14, 14,  1], dtype=int32)}"
      ]
     },
     "execution_count": 45,
     "metadata": {},
     "output_type": "execute_result"
    }
   ],
   "source": [
    "bayes.cv_results_"
   ]
  },
  {
   "cell_type": "code",
   "execution_count": 28,
   "id": "ed9a5e19-11d9-4fe8-aa59-9f106579eab0",
   "metadata": {
    "tags": []
   },
   "outputs": [
    {
     "data": {
      "text/html": [
       "<style>#sk-container-id-4 {color: black;background-color: white;}#sk-container-id-4 pre{padding: 0;}#sk-container-id-4 div.sk-toggleable {background-color: white;}#sk-container-id-4 label.sk-toggleable__label {cursor: pointer;display: block;width: 100%;margin-bottom: 0;padding: 0.3em;box-sizing: border-box;text-align: center;}#sk-container-id-4 label.sk-toggleable__label-arrow:before {content: \"▸\";float: left;margin-right: 0.25em;color: #696969;}#sk-container-id-4 label.sk-toggleable__label-arrow:hover:before {color: black;}#sk-container-id-4 div.sk-estimator:hover label.sk-toggleable__label-arrow:before {color: black;}#sk-container-id-4 div.sk-toggleable__content {max-height: 0;max-width: 0;overflow: hidden;text-align: left;background-color: #f0f8ff;}#sk-container-id-4 div.sk-toggleable__content pre {margin: 0.2em;color: black;border-radius: 0.25em;background-color: #f0f8ff;}#sk-container-id-4 input.sk-toggleable__control:checked~div.sk-toggleable__content {max-height: 200px;max-width: 100%;overflow: auto;}#sk-container-id-4 input.sk-toggleable__control:checked~label.sk-toggleable__label-arrow:before {content: \"▾\";}#sk-container-id-4 div.sk-estimator input.sk-toggleable__control:checked~label.sk-toggleable__label {background-color: #d4ebff;}#sk-container-id-4 div.sk-label input.sk-toggleable__control:checked~label.sk-toggleable__label {background-color: #d4ebff;}#sk-container-id-4 input.sk-hidden--visually {border: 0;clip: rect(1px 1px 1px 1px);clip: rect(1px, 1px, 1px, 1px);height: 1px;margin: -1px;overflow: hidden;padding: 0;position: absolute;width: 1px;}#sk-container-id-4 div.sk-estimator {font-family: monospace;background-color: #f0f8ff;border: 1px dotted black;border-radius: 0.25em;box-sizing: border-box;margin-bottom: 0.5em;}#sk-container-id-4 div.sk-estimator:hover {background-color: #d4ebff;}#sk-container-id-4 div.sk-parallel-item::after {content: \"\";width: 100%;border-bottom: 1px solid gray;flex-grow: 1;}#sk-container-id-4 div.sk-label:hover label.sk-toggleable__label {background-color: #d4ebff;}#sk-container-id-4 div.sk-serial::before {content: \"\";position: absolute;border-left: 1px solid gray;box-sizing: border-box;top: 0;bottom: 0;left: 50%;z-index: 0;}#sk-container-id-4 div.sk-serial {display: flex;flex-direction: column;align-items: center;background-color: white;padding-right: 0.2em;padding-left: 0.2em;position: relative;}#sk-container-id-4 div.sk-item {position: relative;z-index: 1;}#sk-container-id-4 div.sk-parallel {display: flex;align-items: stretch;justify-content: center;background-color: white;position: relative;}#sk-container-id-4 div.sk-item::before, #sk-container-id-4 div.sk-parallel-item::before {content: \"\";position: absolute;border-left: 1px solid gray;box-sizing: border-box;top: 0;bottom: 0;left: 50%;z-index: -1;}#sk-container-id-4 div.sk-parallel-item {display: flex;flex-direction: column;z-index: 1;position: relative;background-color: white;}#sk-container-id-4 div.sk-parallel-item:first-child::after {align-self: flex-end;width: 50%;}#sk-container-id-4 div.sk-parallel-item:last-child::after {align-self: flex-start;width: 50%;}#sk-container-id-4 div.sk-parallel-item:only-child::after {width: 0;}#sk-container-id-4 div.sk-dashed-wrapped {border: 1px dashed gray;margin: 0 0.4em 0.5em 0.4em;box-sizing: border-box;padding-bottom: 0.4em;background-color: white;}#sk-container-id-4 div.sk-label label {font-family: monospace;font-weight: bold;display: inline-block;line-height: 1.2em;}#sk-container-id-4 div.sk-label-container {text-align: center;}#sk-container-id-4 div.sk-container {/* jupyter's `normalize.less` sets `[hidden] { display: none; }` but bootstrap.min.css set `[hidden] { display: none !important; }` so we also need the `!important` here to be able to override the default hidden behavior on the sphinx rendered scikit-learn.org. See: https://github.com/scikit-learn/scikit-learn/issues/21755 */display: inline-block !important;position: relative;}#sk-container-id-4 div.sk-text-repr-fallback {display: none;}</style><div id=\"sk-container-id-4\" class=\"sk-top-container\"><div class=\"sk-text-repr-fallback\"><pre>Pipeline(steps=[(&#x27;preprocessor&#x27;,\n",
       "                 ColumnTransformer(transformers=[(&#x27;num&#x27;,\n",
       "                                                  Pipeline(steps=[(&#x27;imputer&#x27;,\n",
       "                                                                   SimpleImputer(strategy=&#x27;median&#x27;))]),\n",
       "                                                  [&#x27;feature_5&#x27;, &#x27;feature_6&#x27;,\n",
       "                                                   &#x27;feature_7&#x27;]),\n",
       "                                                 (&#x27;cat&#x27;,\n",
       "                                                  Pipeline(steps=[(&#x27;imputer&#x27;,\n",
       "                                                                   SimpleImputer(fill_value=&#x27;missing&#x27;,\n",
       "                                                                                 strategy=&#x27;constant&#x27;)),\n",
       "                                                                  (&#x27;onehot&#x27;,\n",
       "                                                                   OneHotEncoder(drop=&#x27;first&#x27;,\n",
       "                                                                                 handle_unknown=&#x27;ignore&#x27;))]),\n",
       "                                                  [&#x27;feature_0&#x27;, &#x27;feature_1&#x27;,\n",
       "                                                   &#x27;feature_2&#x27;, &#x27;feature_3&#x27;,\n",
       "                                                   &#x27;feature_4&#x27;, &#x27;feature_10&#x27;,\n",
       "                                                   &#x27;feature_11&#x27;, &#x27;feature_12&#x27;,\n",
       "                                                   &#x27;feature_8&#x27;,\n",
       "                                                   &#x27;feature_9&#x27;])])),\n",
       "                (&#x27;clf&#x27;, BalancedRandomForestClassifier(random_state=42))])</pre><b>In a Jupyter environment, please rerun this cell to show the HTML representation or trust the notebook. <br />On GitHub, the HTML representation is unable to render, please try loading this page with nbviewer.org.</b></div><div class=\"sk-container\" hidden><div class=\"sk-item sk-dashed-wrapped\"><div class=\"sk-label-container\"><div class=\"sk-label sk-toggleable\"><input class=\"sk-toggleable__control sk-hidden--visually\" id=\"sk-estimator-id-25\" type=\"checkbox\" ><label for=\"sk-estimator-id-25\" class=\"sk-toggleable__label sk-toggleable__label-arrow\">Pipeline</label><div class=\"sk-toggleable__content\"><pre>Pipeline(steps=[(&#x27;preprocessor&#x27;,\n",
       "                 ColumnTransformer(transformers=[(&#x27;num&#x27;,\n",
       "                                                  Pipeline(steps=[(&#x27;imputer&#x27;,\n",
       "                                                                   SimpleImputer(strategy=&#x27;median&#x27;))]),\n",
       "                                                  [&#x27;feature_5&#x27;, &#x27;feature_6&#x27;,\n",
       "                                                   &#x27;feature_7&#x27;]),\n",
       "                                                 (&#x27;cat&#x27;,\n",
       "                                                  Pipeline(steps=[(&#x27;imputer&#x27;,\n",
       "                                                                   SimpleImputer(fill_value=&#x27;missing&#x27;,\n",
       "                                                                                 strategy=&#x27;constant&#x27;)),\n",
       "                                                                  (&#x27;onehot&#x27;,\n",
       "                                                                   OneHotEncoder(drop=&#x27;first&#x27;,\n",
       "                                                                                 handle_unknown=&#x27;ignore&#x27;))]),\n",
       "                                                  [&#x27;feature_0&#x27;, &#x27;feature_1&#x27;,\n",
       "                                                   &#x27;feature_2&#x27;, &#x27;feature_3&#x27;,\n",
       "                                                   &#x27;feature_4&#x27;, &#x27;feature_10&#x27;,\n",
       "                                                   &#x27;feature_11&#x27;, &#x27;feature_12&#x27;,\n",
       "                                                   &#x27;feature_8&#x27;,\n",
       "                                                   &#x27;feature_9&#x27;])])),\n",
       "                (&#x27;clf&#x27;, BalancedRandomForestClassifier(random_state=42))])</pre></div></div></div><div class=\"sk-serial\"><div class=\"sk-item sk-dashed-wrapped\"><div class=\"sk-label-container\"><div class=\"sk-label sk-toggleable\"><input class=\"sk-toggleable__control sk-hidden--visually\" id=\"sk-estimator-id-26\" type=\"checkbox\" ><label for=\"sk-estimator-id-26\" class=\"sk-toggleable__label sk-toggleable__label-arrow\">preprocessor: ColumnTransformer</label><div class=\"sk-toggleable__content\"><pre>ColumnTransformer(transformers=[(&#x27;num&#x27;,\n",
       "                                 Pipeline(steps=[(&#x27;imputer&#x27;,\n",
       "                                                  SimpleImputer(strategy=&#x27;median&#x27;))]),\n",
       "                                 [&#x27;feature_5&#x27;, &#x27;feature_6&#x27;, &#x27;feature_7&#x27;]),\n",
       "                                (&#x27;cat&#x27;,\n",
       "                                 Pipeline(steps=[(&#x27;imputer&#x27;,\n",
       "                                                  SimpleImputer(fill_value=&#x27;missing&#x27;,\n",
       "                                                                strategy=&#x27;constant&#x27;)),\n",
       "                                                 (&#x27;onehot&#x27;,\n",
       "                                                  OneHotEncoder(drop=&#x27;first&#x27;,\n",
       "                                                                handle_unknown=&#x27;ignore&#x27;))]),\n",
       "                                 [&#x27;feature_0&#x27;, &#x27;feature_1&#x27;, &#x27;feature_2&#x27;,\n",
       "                                  &#x27;feature_3&#x27;, &#x27;feature_4&#x27;, &#x27;feature_10&#x27;,\n",
       "                                  &#x27;feature_11&#x27;, &#x27;feature_12&#x27;, &#x27;feature_8&#x27;,\n",
       "                                  &#x27;feature_9&#x27;])])</pre></div></div></div><div class=\"sk-parallel\"><div class=\"sk-parallel-item\"><div class=\"sk-item\"><div class=\"sk-label-container\"><div class=\"sk-label sk-toggleable\"><input class=\"sk-toggleable__control sk-hidden--visually\" id=\"sk-estimator-id-27\" type=\"checkbox\" ><label for=\"sk-estimator-id-27\" class=\"sk-toggleable__label sk-toggleable__label-arrow\">num</label><div class=\"sk-toggleable__content\"><pre>[&#x27;feature_5&#x27;, &#x27;feature_6&#x27;, &#x27;feature_7&#x27;]</pre></div></div></div><div class=\"sk-serial\"><div class=\"sk-item\"><div class=\"sk-serial\"><div class=\"sk-item\"><div class=\"sk-estimator sk-toggleable\"><input class=\"sk-toggleable__control sk-hidden--visually\" id=\"sk-estimator-id-28\" type=\"checkbox\" ><label for=\"sk-estimator-id-28\" class=\"sk-toggleable__label sk-toggleable__label-arrow\">SimpleImputer</label><div class=\"sk-toggleable__content\"><pre>SimpleImputer(strategy=&#x27;median&#x27;)</pre></div></div></div></div></div></div></div></div><div class=\"sk-parallel-item\"><div class=\"sk-item\"><div class=\"sk-label-container\"><div class=\"sk-label sk-toggleable\"><input class=\"sk-toggleable__control sk-hidden--visually\" id=\"sk-estimator-id-29\" type=\"checkbox\" ><label for=\"sk-estimator-id-29\" class=\"sk-toggleable__label sk-toggleable__label-arrow\">cat</label><div class=\"sk-toggleable__content\"><pre>[&#x27;feature_0&#x27;, &#x27;feature_1&#x27;, &#x27;feature_2&#x27;, &#x27;feature_3&#x27;, &#x27;feature_4&#x27;, &#x27;feature_10&#x27;, &#x27;feature_11&#x27;, &#x27;feature_12&#x27;, &#x27;feature_8&#x27;, &#x27;feature_9&#x27;]</pre></div></div></div><div class=\"sk-serial\"><div class=\"sk-item\"><div class=\"sk-serial\"><div class=\"sk-item\"><div class=\"sk-estimator sk-toggleable\"><input class=\"sk-toggleable__control sk-hidden--visually\" id=\"sk-estimator-id-30\" type=\"checkbox\" ><label for=\"sk-estimator-id-30\" class=\"sk-toggleable__label sk-toggleable__label-arrow\">SimpleImputer</label><div class=\"sk-toggleable__content\"><pre>SimpleImputer(fill_value=&#x27;missing&#x27;, strategy=&#x27;constant&#x27;)</pre></div></div></div><div class=\"sk-item\"><div class=\"sk-estimator sk-toggleable\"><input class=\"sk-toggleable__control sk-hidden--visually\" id=\"sk-estimator-id-31\" type=\"checkbox\" ><label for=\"sk-estimator-id-31\" class=\"sk-toggleable__label sk-toggleable__label-arrow\">OneHotEncoder</label><div class=\"sk-toggleable__content\"><pre>OneHotEncoder(drop=&#x27;first&#x27;, handle_unknown=&#x27;ignore&#x27;)</pre></div></div></div></div></div></div></div></div></div></div><div class=\"sk-item\"><div class=\"sk-estimator sk-toggleable\"><input class=\"sk-toggleable__control sk-hidden--visually\" id=\"sk-estimator-id-32\" type=\"checkbox\" ><label for=\"sk-estimator-id-32\" class=\"sk-toggleable__label sk-toggleable__label-arrow\">BalancedRandomForestClassifier</label><div class=\"sk-toggleable__content\"><pre>BalancedRandomForestClassifier(random_state=42)</pre></div></div></div></div></div></div></div>"
      ],
      "text/plain": [
       "Pipeline(steps=[('preprocessor',\n",
       "                 ColumnTransformer(transformers=[('num',\n",
       "                                                  Pipeline(steps=[('imputer',\n",
       "                                                                   SimpleImputer(strategy='median'))]),\n",
       "                                                  ['feature_5', 'feature_6',\n",
       "                                                   'feature_7']),\n",
       "                                                 ('cat',\n",
       "                                                  Pipeline(steps=[('imputer',\n",
       "                                                                   SimpleImputer(fill_value='missing',\n",
       "                                                                                 strategy='constant')),\n",
       "                                                                  ('onehot',\n",
       "                                                                   OneHotEncoder(drop='first',\n",
       "                                                                                 handle_unknown='ignore'))]),\n",
       "                                                  ['feature_0', 'feature_1',\n",
       "                                                   'feature_2', 'feature_3',\n",
       "                                                   'feature_4', 'feature_10',\n",
       "                                                   'feature_11', 'feature_12',\n",
       "                                                   'feature_8',\n",
       "                                                   'feature_9'])])),\n",
       "                ('clf', BalancedRandomForestClassifier(random_state=42))])"
      ]
     },
     "execution_count": 28,
     "metadata": {},
     "output_type": "execute_result"
    }
   ],
   "source": [
    "bayes.best_estimator_"
   ]
  },
  {
   "cell_type": "code",
   "execution_count": null,
   "id": "3a3b899f-000f-4496-bbe3-2adc2018f584",
   "metadata": {},
   "outputs": [],
   "source": []
  }
 ],
 "metadata": {
  "kernelspec": {
   "display_name": "ivado-assignment-flevcKW5-py3.11",
   "language": "python",
   "name": "ivado-assignment-flevckw5-py3.11"
  },
  "language_info": {
   "codemirror_mode": {
    "name": "ipython",
    "version": 3
   },
   "file_extension": ".py",
   "mimetype": "text/x-python",
   "name": "python",
   "nbconvert_exporter": "python",
   "pygments_lexer": "ipython3",
   "version": "3.11.2"
  }
 },
 "nbformat": 4,
 "nbformat_minor": 5
}
